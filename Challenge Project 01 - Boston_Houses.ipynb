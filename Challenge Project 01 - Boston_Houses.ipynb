{
 "cells": [
  {
   "cell_type": "markdown",
   "metadata": {
    "colab_type": "text",
    "id": "jIxyN3vhfs_A"
   },
   "source": [
    "# **Challenge Project 0 1 - Boston Houses**\n",
    "\n",
    "*18 de março, 2020*"
   ]
  },
  {
   "cell_type": "markdown",
   "metadata": {
    "colab_type": "text",
    "id": "RWPac84CgN9s"
   },
   "source": [
    "## **1. Descrição geral do problema**"
   ]
  },
  {
   "cell_type": "markdown",
   "metadata": {
    "colab_type": "text",
    "id": "Mbi2Q5M9ft9X"
   },
   "source": [
    "---\n",
    "\n",
    "Este conjunto de dados contém informações coletadas pelo Serviço de Censo dos EUA sobre moradias na área de  Massachusetts Mass. Foi obtido no arquivo [StatLib](http://lib.stat.cmu.edu/datasets/boston) e tem sido amplamente utilizado em todo o país na literatura para comparar algoritmos. O [conjunto de dados](http://www.cs.toronto.edu/~delve/data/boston/bostonDetail.html) é pequeno, com apenas 506 registros.\n",
    "\n",
    "**Objetivo:** prever os preços de casas em Boston a partir das informações fornecidas pelo conjunto de dados. Iremos avaliar os modelos preditivos a serem desenvolvidos a partir da métrica *R-squared* (**R2**).\n",
    "\n",
    "---"
   ]
  },
  {
   "cell_type": "markdown",
   "metadata": {
    "colab_type": "text",
    "id": "9jJLAmfhkDMm"
   },
   "source": [
    "## **2. Carregando dados**"
   ]
  },
  {
   "cell_type": "markdown",
   "metadata": {
    "colab_type": "text",
    "id": "khD4bl6mkaEV"
   },
   "source": [
    "### **2.1 Importando bibliotecas necessárias**\n"
   ]
  },
  {
   "cell_type": "markdown",
   "metadata": {
    "colab_type": "text",
    "id": "qBhMeveZkv1G"
   },
   "source": [
    "Vamos começar nosso projeto importanto todas as bilbiotecas necessárias para a realização das fases iniciais de exploração e transformação dos dados (*Data Munging*)."
   ]
  },
  {
   "cell_type": "code",
   "execution_count": null,
   "metadata": {
    "colab": {
     "base_uri": "https://localhost:8080/",
     "height": 0
    },
    "colab_type": "code",
    "id": "QYFzpM4sBKJP",
    "outputId": "666906ce-29b1-48c0-b1c2-26a6834dc98d"
   },
   "outputs": [],
   "source": [
    "# Definindo a ocultação de warnings.\n",
    "\n",
    "options(warn = -1)\n",
    "\n",
    "# Caso não possua uma das bibliotecas importadas abaixo, a instale com um dos comandos a seguir:\n",
    "\n",
    "install.packages(c(\n",
    "    'MASS',\n",
    "    'ggplot2',\n",
    "    'ggthemes',\n",
    "    'GGally',\n",
    "    'corrplot',\n",
    "    'dplyr',\n",
    "    'caret',\n",
    "    'e1071'\n",
    "))"
   ]
  },
  {
   "cell_type": "code",
   "execution_count": null,
   "metadata": {
    "colab": {},
    "colab_type": "code",
    "id": "8YsWQg1tA66T"
   },
   "outputs": [],
   "source": [
    "# Importando bibliotecas.\n",
    "\n",
    "library(MASS)\n",
    "library(ggplot2)\n",
    "library(ggthemes)\n",
    "library(GGally)\n",
    "library(corrplot)\n",
    "library(dplyr)\n",
    "library(caret)\n",
    "library(e1071)"
   ]
  },
  {
   "cell_type": "markdown",
   "metadata": {
    "colab_type": "text",
    "id": "I1Fn6rCskhcm"
   },
   "source": [
    "### **2.2 Carregando dados**"
   ]
  },
  {
   "cell_type": "markdown",
   "metadata": {
    "colab_type": "text",
    "id": "8excUXz23hvt"
   },
   "source": [
    "Nosso dataset é carregado junto com a biblioteca **MASS** e é dela que faremos a importação dos dados."
   ]
  },
  {
   "cell_type": "code",
   "execution_count": 3,
   "metadata": {
    "colab": {
     "base_uri": "https://localhost:8080/",
     "height": 0
    },
    "colab_type": "code",
    "id": "a2uD8muOBkS-",
    "outputId": "c413210f-6a4b-4038-901f-4b070b17c7d5"
   },
   "outputs": [
    {
     "data": {
      "text/html": [
       "<table>\n",
       "<thead><tr><th scope=col>crim</th><th scope=col>zn</th><th scope=col>indus</th><th scope=col>chas</th><th scope=col>nox</th><th scope=col>rm</th><th scope=col>age</th><th scope=col>dis</th><th scope=col>rad</th><th scope=col>tax</th><th scope=col>ptratio</th><th scope=col>black</th><th scope=col>lstat</th><th scope=col>medv</th></tr></thead>\n",
       "<tbody>\n",
       "\t<tr><td>0.00632</td><td>18     </td><td>2.31   </td><td>0      </td><td>0.538  </td><td>6.575  </td><td>65.2   </td><td>4.0900 </td><td>1      </td><td>296    </td><td>15.3   </td><td>396.90 </td><td>4.98   </td><td>24.0   </td></tr>\n",
       "\t<tr><td>0.02731</td><td> 0     </td><td>7.07   </td><td>0      </td><td>0.469  </td><td>6.421  </td><td>78.9   </td><td>4.9671 </td><td>2      </td><td>242    </td><td>17.8   </td><td>396.90 </td><td>9.14   </td><td>21.6   </td></tr>\n",
       "\t<tr><td>0.02729</td><td> 0     </td><td>7.07   </td><td>0      </td><td>0.469  </td><td>7.185  </td><td>61.1   </td><td>4.9671 </td><td>2      </td><td>242    </td><td>17.8   </td><td>392.83 </td><td>4.03   </td><td>34.7   </td></tr>\n",
       "\t<tr><td>0.03237</td><td> 0     </td><td>2.18   </td><td>0      </td><td>0.458  </td><td>6.998  </td><td>45.8   </td><td>6.0622 </td><td>3      </td><td>222    </td><td>18.7   </td><td>394.63 </td><td>2.94   </td><td>33.4   </td></tr>\n",
       "\t<tr><td>0.06905</td><td> 0     </td><td>2.18   </td><td>0      </td><td>0.458  </td><td>7.147  </td><td>54.2   </td><td>6.0622 </td><td>3      </td><td>222    </td><td>18.7   </td><td>396.90 </td><td>5.33   </td><td>36.2   </td></tr>\n",
       "\t<tr><td>0.02985</td><td> 0     </td><td>2.18   </td><td>0      </td><td>0.458  </td><td>6.430  </td><td>58.7   </td><td>6.0622 </td><td>3      </td><td>222    </td><td>18.7   </td><td>394.12 </td><td>5.21   </td><td>28.7   </td></tr>\n",
       "</tbody>\n",
       "</table>\n"
      ],
      "text/latex": [
       "\\begin{tabular}{r|llllllllllllll}\n",
       " crim & zn & indus & chas & nox & rm & age & dis & rad & tax & ptratio & black & lstat & medv\\\\\n",
       "\\hline\n",
       "\t 0.00632 & 18      & 2.31    & 0       & 0.538   & 6.575   & 65.2    & 4.0900  & 1       & 296     & 15.3    & 396.90  & 4.98    & 24.0   \\\\\n",
       "\t 0.02731 &  0      & 7.07    & 0       & 0.469   & 6.421   & 78.9    & 4.9671  & 2       & 242     & 17.8    & 396.90  & 9.14    & 21.6   \\\\\n",
       "\t 0.02729 &  0      & 7.07    & 0       & 0.469   & 7.185   & 61.1    & 4.9671  & 2       & 242     & 17.8    & 392.83  & 4.03    & 34.7   \\\\\n",
       "\t 0.03237 &  0      & 2.18    & 0       & 0.458   & 6.998   & 45.8    & 6.0622  & 3       & 222     & 18.7    & 394.63  & 2.94    & 33.4   \\\\\n",
       "\t 0.06905 &  0      & 2.18    & 0       & 0.458   & 7.147   & 54.2    & 6.0622  & 3       & 222     & 18.7    & 396.90  & 5.33    & 36.2   \\\\\n",
       "\t 0.02985 &  0      & 2.18    & 0       & 0.458   & 6.430   & 58.7    & 6.0622  & 3       & 222     & 18.7    & 394.12  & 5.21    & 28.7   \\\\\n",
       "\\end{tabular}\n"
      ],
      "text/markdown": [
       "\n",
       "| crim | zn | indus | chas | nox | rm | age | dis | rad | tax | ptratio | black | lstat | medv |\n",
       "|---|---|---|---|---|---|---|---|---|---|---|---|---|---|\n",
       "| 0.00632 | 18      | 2.31    | 0       | 0.538   | 6.575   | 65.2    | 4.0900  | 1       | 296     | 15.3    | 396.90  | 4.98    | 24.0    |\n",
       "| 0.02731 |  0      | 7.07    | 0       | 0.469   | 6.421   | 78.9    | 4.9671  | 2       | 242     | 17.8    | 396.90  | 9.14    | 21.6    |\n",
       "| 0.02729 |  0      | 7.07    | 0       | 0.469   | 7.185   | 61.1    | 4.9671  | 2       | 242     | 17.8    | 392.83  | 4.03    | 34.7    |\n",
       "| 0.03237 |  0      | 2.18    | 0       | 0.458   | 6.998   | 45.8    | 6.0622  | 3       | 222     | 18.7    | 394.63  | 2.94    | 33.4    |\n",
       "| 0.06905 |  0      | 2.18    | 0       | 0.458   | 7.147   | 54.2    | 6.0622  | 3       | 222     | 18.7    | 396.90  | 5.33    | 36.2    |\n",
       "| 0.02985 |  0      | 2.18    | 0       | 0.458   | 6.430   | 58.7    | 6.0622  | 3       | 222     | 18.7    | 394.12  | 5.21    | 28.7    |\n",
       "\n"
      ],
      "text/plain": [
       "  crim    zn indus chas nox   rm    age  dis    rad tax ptratio black  lstat\n",
       "1 0.00632 18 2.31  0    0.538 6.575 65.2 4.0900 1   296 15.3    396.90 4.98 \n",
       "2 0.02731  0 7.07  0    0.469 6.421 78.9 4.9671 2   242 17.8    396.90 9.14 \n",
       "3 0.02729  0 7.07  0    0.469 7.185 61.1 4.9671 2   242 17.8    392.83 4.03 \n",
       "4 0.03237  0 2.18  0    0.458 6.998 45.8 6.0622 3   222 18.7    394.63 2.94 \n",
       "5 0.06905  0 2.18  0    0.458 7.147 54.2 6.0622 3   222 18.7    396.90 5.33 \n",
       "6 0.02985  0 2.18  0    0.458 6.430 58.7 6.0622 3   222 18.7    394.12 5.21 \n",
       "  medv\n",
       "1 24.0\n",
       "2 21.6\n",
       "3 34.7\n",
       "4 33.4\n",
       "5 36.2\n",
       "6 28.7"
      ]
     },
     "metadata": {},
     "output_type": "display_data"
    }
   ],
   "source": [
    "# Importando os dados do dataset Boston incluso na biblioteca MASS.\n",
    "\n",
    "data <- Boston\n",
    "\n",
    "# Visualizando as primeiras linhas do dataset.\n",
    "\n",
    "head(data)"
   ]
  },
  {
   "cell_type": "markdown",
   "metadata": {
    "colab_type": "text",
    "id": "c6dwHxR0p_OP"
   },
   "source": [
    "## **3. Análise exploratória dos dados**"
   ]
  },
  {
   "cell_type": "markdown",
   "metadata": {
    "colab_type": "text",
    "id": "C6pEv3Iax9mB"
   },
   "source": [
    "Nesta etapa vamos buscar entender a disposição e as características dos dados dentro do dataset além de extrair insigths que possam auxiliar no processo de criação do modelo preditivo.\n",
    "\n",
    "Segundo a [documentação](http://www.cs.toronto.edu/~delve/data/boston/bostonDetail.html) referente ao projeto, cada linha dos dados contém um registro, com as seguintes variáveis:\n",
    "\n",
    "| Variável         | Descrição                                                                                    |\n",
    "|:-----------------|:---------------------------------------------------------------------------------------------|\n",
    "| **crim**         | é a taxa de criminalidade per capita por cidade;                                             |\n",
    "| **zn**           | é a proporção de terrenos residenciais divididos por lotes acima de 25.000 pés quadrados;    |\n",
    "| **indus**        | é a proporção de acres não comerciais por cidade;                                            |\n",
    "| **chas**         | indica se a casa limita ou não o Rio Charles (1 se o trecho limita o rio; 0 caso contrário); |\n",
    "| **nox**          | é a concentração de óxidos nítricos (partes por 10 milhões);                                 |\n",
    "| **rm**           | é o número médio de quartos por habitação;                                                   |\n",
    "| **age**          | é a proporção de unidades ocupadas pelos proprietários construídas antes de 1940;            |\n",
    "| **dis**          | é a distância ponderada de cinco centros de emprego em Boston;                               |\n",
    "| **rad**          | é o índice de acessibilidade às rodovias radiais;                                            |\n",
    "| **tax**          | é a taxa de imposto sobre a propriedade de valor total por US 10.000;                        |\n",
    "| **ptratio**      | é a proporção aluno-professor por cidade;                                                    |\n",
    "| **black**        | é definida por 1000 (Bk - 0,63) ^ 2 onde Bk é a proporção de negros por cidade;              |\n",
    "| **lstat**        | é a menor porcentagem do status da população e;                                              |\n",
    "| **medv (Target)**| é o valor médio das casas ocupadas pelos proprietários em US 1.000.                          |\n",
    "\n"
   ]
  },
  {
   "cell_type": "markdown",
   "metadata": {
    "colab_type": "text",
    "id": "uGf2c0luqIFX"
   },
   "source": [
    "### **3.1 Visão geral dos dados**"
   ]
  },
  {
   "cell_type": "code",
   "execution_count": 4,
   "metadata": {
    "colab": {
     "base_uri": "https://localhost:8080/",
     "height": 0
    },
    "colab_type": "code",
    "id": "8xKQD7euke8F",
    "outputId": "43c59904-9de2-433c-8a68-639c73432c22"
   },
   "outputs": [
    {
     "name": "stdout",
     "output_type": "stream",
     "text": [
      "Observations: 506\n",
      "Variables: 14\n",
      "$ crim    <dbl> 0.00632, 0.02731, 0.02729, 0.03237, 0.06905, 0.02985, 0.088...\n",
      "$ zn      <dbl> 18.0, 0.0, 0.0, 0.0, 0.0, 0.0, 12.5, 12.5, 12.5, 12.5, 12.5...\n",
      "$ indus   <dbl> 2.31, 7.07, 7.07, 2.18, 2.18, 2.18, 7.87, 7.87, 7.87, 7.87,...\n",
      "$ chas    <int> 0, 0, 0, 0, 0, 0, 0, 0, 0, 0, 0, 0, 0, 0, 0, 0, 0, 0, 0, 0,...\n",
      "$ nox     <dbl> 0.538, 0.469, 0.469, 0.458, 0.458, 0.458, 0.524, 0.524, 0.5...\n",
      "$ rm      <dbl> 6.575, 6.421, 7.185, 6.998, 7.147, 6.430, 6.012, 6.172, 5.6...\n",
      "$ age     <dbl> 65.2, 78.9, 61.1, 45.8, 54.2, 58.7, 66.6, 96.1, 100.0, 85.9...\n",
      "$ dis     <dbl> 4.0900, 4.9671, 4.9671, 6.0622, 6.0622, 6.0622, 5.5605, 5.9...\n",
      "$ rad     <int> 1, 2, 2, 3, 3, 3, 5, 5, 5, 5, 5, 5, 5, 4, 4, 4, 4, 4, 4, 4,...\n",
      "$ tax     <dbl> 296, 242, 242, 222, 222, 222, 311, 311, 311, 311, 311, 311,...\n",
      "$ ptratio <dbl> 15.3, 17.8, 17.8, 18.7, 18.7, 18.7, 15.2, 15.2, 15.2, 15.2,...\n",
      "$ black   <dbl> 396.90, 396.90, 392.83, 394.63, 396.90, 394.12, 395.60, 396...\n",
      "$ lstat   <dbl> 4.98, 9.14, 4.03, 2.94, 5.33, 5.21, 12.43, 19.15, 29.93, 17...\n",
      "$ medv    <dbl> 24.0, 21.6, 34.7, 33.4, 36.2, 28.7, 22.9, 27.1, 16.5, 18.9,...\n"
     ]
    }
   ],
   "source": [
    "# Verificando os tipos das colunas carregadas do dataset.\n",
    "\n",
    "glimpse(data)"
   ]
  },
  {
   "cell_type": "markdown",
   "metadata": {
    "colab_type": "text",
    "id": "kybpyWxt4_Mm"
   },
   "source": [
    "Verificamos a existência de 14 variáveis numéricas e 506 observações dentro do dataset."
   ]
  },
  {
   "cell_type": "code",
   "execution_count": 5,
   "metadata": {
    "colab": {
     "base_uri": "https://localhost:8080/",
     "height": 0
    },
    "colab_type": "code",
    "id": "mVJyT-_fldDy",
    "outputId": "5bb7c3a7-d103-46bf-d35d-41b0f69f0faa"
   },
   "outputs": [
    {
     "name": "stdout",
     "output_type": "stream",
     "text": [
      "   crim      zn   indus    chas     nox      rm     age     dis     rad     tax \n",
      "  FALSE   FALSE   FALSE   FALSE   FALSE   FALSE   FALSE   FALSE   FALSE   FALSE \n",
      "ptratio   black   lstat    medv \n",
      "  FALSE   FALSE   FALSE   FALSE \n"
     ]
    }
   ],
   "source": [
    "# Verificando a existência de valores NA no dataset.\n",
    "\n",
    "print(sapply(data, function(v) {\n",
    "    anyNA(v)\n",
    "}))"
   ]
  },
  {
   "cell_type": "markdown",
   "metadata": {
    "colab_type": "text",
    "id": "QjQuZnF35jpu"
   },
   "source": [
    "Não foi detectado nenhum valor *NA* dentro do conjunto de dados."
   ]
  },
  {
   "cell_type": "code",
   "execution_count": 6,
   "metadata": {
    "colab": {
     "base_uri": "https://localhost:8080/",
     "height": 0
    },
    "colab_type": "code",
    "id": "ukh-v7qulcw7",
    "outputId": "d3d308c3-212f-40d9-bde6-4ca5ad00a442"
   },
   "outputs": [
    {
     "name": "stdout",
     "output_type": "stream",
     "text": [
      "   crim      zn   indus    chas     nox      rm     age     dis     rad     tax \n",
      "    504      26      76       2      81     446     356     412       9      66 \n",
      "ptratio   black   lstat    medv \n",
      "     46     357     455     229 \n"
     ]
    }
   ],
   "source": [
    "# Verificando o número de valores únicos presentes em cada uma das variáveis especificadas.\n",
    "\n",
    "print(sapply(data, function(v) {\n",
    "    length(unique(v))\n",
    "}))"
   ]
  },
  {
   "cell_type": "markdown",
   "metadata": {
    "colab_type": "text",
    "id": "FVQvvbqo6KzQ"
   },
   "source": [
    "Note que as variáveis **chas** e **rad** são as que apresentam as menores quantidades de valores únicos. Isso nos indica que ambas podem estar representando categorias de classes em cada variável.\n",
    "\n",
    "Podemos confirmar esta teoria para a variável **chas** a partir da documentação do dataset que a classifica como uma variável categórica. E caso seja necessário, também podemos tratar a variável **rad** da mesma forma.\n",
    "\n",
    "Agora vamos calcular algumas estatísticas para cada uma das variáveis quantitativas, isto é, iremos desconsiderar a variável qualitativa **chas** nas etapas a seguir."
   ]
  },
  {
   "cell_type": "code",
   "execution_count": 7,
   "metadata": {
    "colab": {
     "base_uri": "https://localhost:8080/",
     "height": 0
    },
    "colab_type": "code",
    "id": "z1Kj-40a8Zcb",
    "outputId": "93ced96d-ae04-42f8-eb9f-682de69ee46e"
   },
   "outputs": [
    {
     "data": {
      "text/html": [
       "<table>\n",
       "<thead><tr><th></th><th scope=col>crim</th><th scope=col>zn</th><th scope=col>indus</th><th scope=col>nox</th><th scope=col>rm</th><th scope=col>age</th><th scope=col>dis</th><th scope=col>rad</th><th scope=col>tax</th><th scope=col>ptratio</th><th scope=col>black</th><th scope=col>lstat</th><th scope=col>medv</th></tr></thead>\n",
       "<tbody>\n",
       "\t<tr><th scope=row>Min</th><td>  0.006320</td><td>  0.00000 </td><td> 0.460000 </td><td> 0.3850000</td><td> 3.5610000</td><td>  2.90000 </td><td> 1.129600 </td><td> 1.000000 </td><td>187.00000 </td><td>12.600000 </td><td>  0.32000 </td><td> 1.730000 </td><td> 5.000000 </td></tr>\n",
       "\t<tr><th scope=row>Q1</th><td>  0.082045</td><td>  0.00000 </td><td> 5.190000 </td><td> 0.4490000</td><td> 5.8855000</td><td> 45.02500 </td><td> 2.100175 </td><td> 4.000000 </td><td>279.00000 </td><td>17.400000 </td><td>375.37750 </td><td> 6.950000 </td><td>17.025000 </td></tr>\n",
       "\t<tr><th scope=row>Median</th><td>  0.256510</td><td>  0.00000 </td><td> 9.690000 </td><td> 0.5380000</td><td> 6.2085000</td><td> 77.50000 </td><td> 3.207450 </td><td> 5.000000 </td><td>330.00000 </td><td>19.050000 </td><td>391.44000 </td><td>11.360000 </td><td>21.200000 </td></tr>\n",
       "\t<tr><th scope=row>Mean</th><td>  3.613524</td><td> 11.36364 </td><td>11.136779 </td><td> 0.5546951</td><td> 6.2846344</td><td> 68.57490 </td><td> 3.795043 </td><td> 9.549407 </td><td>408.23715 </td><td>18.455534 </td><td>356.67403 </td><td>12.653063 </td><td>22.532806 </td></tr>\n",
       "\t<tr><th scope=row>Q3</th><td>  3.677083</td><td> 12.50000 </td><td>18.100000 </td><td> 0.6240000</td><td> 6.6235000</td><td> 94.07500 </td><td> 5.188425 </td><td>24.000000 </td><td>666.00000 </td><td>20.200000 </td><td>396.22500 </td><td>16.955000 </td><td>25.000000 </td></tr>\n",
       "\t<tr><th scope=row>Max</th><td> 88.976200</td><td>100.00000 </td><td>27.740000 </td><td> 0.8710000</td><td> 8.7800000</td><td>100.00000 </td><td>12.126500 </td><td>24.000000 </td><td>711.00000 </td><td>22.000000 </td><td>396.90000 </td><td>37.970000 </td><td>50.000000 </td></tr>\n",
       "\t<tr><th scope=row>Sd</th><td>  8.601545</td><td> 23.32245 </td><td> 6.860353 </td><td> 0.1158777</td><td> 0.7026171</td><td> 28.14886 </td><td> 2.105710 </td><td> 8.707259 </td><td>168.53712 </td><td> 2.164946 </td><td> 91.29486 </td><td> 7.141062 </td><td> 9.197104 </td></tr>\n",
       "\t<tr><th scope=row>CV</th><td>238.037610</td><td>205.23759 </td><td>61.600874 </td><td>20.8903385</td><td>11.1799207</td><td> 41.04834 </td><td>55.485809 </td><td>91.181152 </td><td> 41.28412 </td><td>11.730604 </td><td> 25.59616 </td><td>56.437413 </td><td>40.816505 </td></tr>\n",
       "</tbody>\n",
       "</table>\n"
      ],
      "text/latex": [
       "\\begin{tabular}{r|lllllllllllll}\n",
       "  & crim & zn & indus & nox & rm & age & dis & rad & tax & ptratio & black & lstat & medv\\\\\n",
       "\\hline\n",
       "\tMin &   0.006320 &   0.00000  &  0.460000  &  0.3850000 &  3.5610000 &   2.90000  &  1.129600  &  1.000000  & 187.00000  & 12.600000  &   0.32000  &  1.730000  &  5.000000 \\\\\n",
       "\tQ1 &   0.082045 &   0.00000  &  5.190000  &  0.4490000 &  5.8855000 &  45.02500  &  2.100175  &  4.000000  & 279.00000  & 17.400000  & 375.37750  &  6.950000  & 17.025000 \\\\\n",
       "\tMedian &   0.256510 &   0.00000  &  9.690000  &  0.5380000 &  6.2085000 &  77.50000  &  3.207450  &  5.000000  & 330.00000  & 19.050000  & 391.44000  & 11.360000  & 21.200000 \\\\\n",
       "\tMean &   3.613524 &  11.36364  & 11.136779  &  0.5546951 &  6.2846344 &  68.57490  &  3.795043  &  9.549407  & 408.23715  & 18.455534  & 356.67403  & 12.653063  & 22.532806 \\\\\n",
       "\tQ3 &   3.677083 &  12.50000  & 18.100000  &  0.6240000 &  6.6235000 &  94.07500  &  5.188425  & 24.000000  & 666.00000  & 20.200000  & 396.22500  & 16.955000  & 25.000000 \\\\\n",
       "\tMax &  88.976200 & 100.00000  & 27.740000  &  0.8710000 &  8.7800000 & 100.00000  & 12.126500  & 24.000000  & 711.00000  & 22.000000  & 396.90000  & 37.970000  & 50.000000 \\\\\n",
       "\tSd &   8.601545 &  23.32245  &  6.860353  &  0.1158777 &  0.7026171 &  28.14886  &  2.105710  &  8.707259  & 168.53712  &  2.164946  &  91.29486  &  7.141062  &  9.197104 \\\\\n",
       "\tCV & 238.037610 & 205.23759  & 61.600874  & 20.8903385 & 11.1799207 &  41.04834  & 55.485809  & 91.181152  &  41.28412  & 11.730604  &  25.59616  & 56.437413  & 40.816505 \\\\\n",
       "\\end{tabular}\n"
      ],
      "text/markdown": [
       "\n",
       "| <!--/--> | crim | zn | indus | nox | rm | age | dis | rad | tax | ptratio | black | lstat | medv |\n",
       "|---|---|---|---|---|---|---|---|---|---|---|---|---|---|\n",
       "| Min |   0.006320 |   0.00000  |  0.460000  |  0.3850000 |  3.5610000 |   2.90000  |  1.129600  |  1.000000  | 187.00000  | 12.600000  |   0.32000  |  1.730000  |  5.000000  |\n",
       "| Q1 |   0.082045 |   0.00000  |  5.190000  |  0.4490000 |  5.8855000 |  45.02500  |  2.100175  |  4.000000  | 279.00000  | 17.400000  | 375.37750  |  6.950000  | 17.025000  |\n",
       "| Median |   0.256510 |   0.00000  |  9.690000  |  0.5380000 |  6.2085000 |  77.50000  |  3.207450  |  5.000000  | 330.00000  | 19.050000  | 391.44000  | 11.360000  | 21.200000  |\n",
       "| Mean |   3.613524 |  11.36364  | 11.136779  |  0.5546951 |  6.2846344 |  68.57490  |  3.795043  |  9.549407  | 408.23715  | 18.455534  | 356.67403  | 12.653063  | 22.532806  |\n",
       "| Q3 |   3.677083 |  12.50000  | 18.100000  |  0.6240000 |  6.6235000 |  94.07500  |  5.188425  | 24.000000  | 666.00000  | 20.200000  | 396.22500  | 16.955000  | 25.000000  |\n",
       "| Max |  88.976200 | 100.00000  | 27.740000  |  0.8710000 |  8.7800000 | 100.00000  | 12.126500  | 24.000000  | 711.00000  | 22.000000  | 396.90000  | 37.970000  | 50.000000  |\n",
       "| Sd |   8.601545 |  23.32245  |  6.860353  |  0.1158777 |  0.7026171 |  28.14886  |  2.105710  |  8.707259  | 168.53712  |  2.164946  |  91.29486  |  7.141062  |  9.197104  |\n",
       "| CV | 238.037610 | 205.23759  | 61.600874  | 20.8903385 | 11.1799207 |  41.04834  | 55.485809  | 91.181152  |  41.28412  | 11.730604  |  25.59616  | 56.437413  | 40.816505  |\n",
       "\n"
      ],
      "text/plain": [
       "       crim       zn        indus     nox        rm         age       dis      \n",
       "Min      0.006320   0.00000  0.460000  0.3850000  3.5610000   2.90000  1.129600\n",
       "Q1       0.082045   0.00000  5.190000  0.4490000  5.8855000  45.02500  2.100175\n",
       "Median   0.256510   0.00000  9.690000  0.5380000  6.2085000  77.50000  3.207450\n",
       "Mean     3.613524  11.36364 11.136779  0.5546951  6.2846344  68.57490  3.795043\n",
       "Q3       3.677083  12.50000 18.100000  0.6240000  6.6235000  94.07500  5.188425\n",
       "Max     88.976200 100.00000 27.740000  0.8710000  8.7800000 100.00000 12.126500\n",
       "Sd       8.601545  23.32245  6.860353  0.1158777  0.7026171  28.14886  2.105710\n",
       "CV     238.037610 205.23759 61.600874 20.8903385 11.1799207  41.04834 55.485809\n",
       "       rad       tax       ptratio   black     lstat     medv     \n",
       "Min     1.000000 187.00000 12.600000   0.32000  1.730000  5.000000\n",
       "Q1      4.000000 279.00000 17.400000 375.37750  6.950000 17.025000\n",
       "Median  5.000000 330.00000 19.050000 391.44000 11.360000 21.200000\n",
       "Mean    9.549407 408.23715 18.455534 356.67403 12.653063 22.532806\n",
       "Q3     24.000000 666.00000 20.200000 396.22500 16.955000 25.000000\n",
       "Max    24.000000 711.00000 22.000000 396.90000 37.970000 50.000000\n",
       "Sd      8.707259 168.53712  2.164946  91.29486  7.141062  9.197104\n",
       "CV     91.181152  41.28412 11.730604  25.59616 56.437413 40.816505"
      ]
     },
     "metadata": {},
     "output_type": "display_data"
    }
   ],
   "source": [
    "# Definindo as variáveis quantitativas dentro do dataset.\n",
    "\n",
    "numVars <- colnames(data) != 'chas'\n",
    "\n",
    "# Verificando estatísticas das variáveis do dataset que representam variáveis quantitativas.\n",
    "\n",
    "stats <- do.call(cbind, lapply(data[, numVars], summary))\n",
    "\n",
    "# Determinando o valor do desvio-padrão de cada variável.\n",
    "\n",
    "dataSD <- sapply(data[, numVars], sd)\n",
    "\n",
    "# Inserindo os desvios-padrão no dataset.\n",
    "\n",
    "stats <- as.data.frame(rbind(stats, sd = dataSD))\n",
    "\n",
    "# Determinando o valor do coeficiente de variação de cada variável.\n",
    "\n",
    "dataCV <- sapply(data[, numVars], function(c){\n",
    "    sd(c) / mean(c) * 100\n",
    "})\n",
    "\n",
    "# Inserindo os coeficiente de variação no dataset.\n",
    "\n",
    "stats <- as.data.frame(rbind(stats, CV = dataCV))\n",
    "\n",
    "# Alterando nome das linhas.\n",
    "\n",
    "rownames(stats) <- c('Min', 'Q1', 'Median', 'Mean', 'Q3', 'Max', 'Sd', 'CV')\n",
    "\n",
    "# Exibindo o dataset.\n",
    "\n",
    "stats"
   ]
  },
  {
   "cell_type": "markdown",
   "metadata": {
    "colab_type": "text",
    "id": "4Lt_Y6jusOfg"
   },
   "source": [
    "As variáveis que apresentam média, moda e mediana iguais são classificadas como tendo uma distribuição normal. No dataset que estamos manipulando não há nenhuma variável com está característica, mas podemos verificar se existe alguma que possua uma distribuição aproximadamente normal."
   ]
  },
  {
   "cell_type": "code",
   "execution_count": 8,
   "metadata": {
    "colab": {
     "base_uri": "https://localhost:8080/",
     "height": 0
    },
    "colab_type": "code",
    "id": "3_HW-TAaPES7",
    "outputId": "09ed8307-c008-41d5-fb7e-a5bde803b5c0"
   },
   "outputs": [
    {
     "name": "stdout",
     "output_type": "stream",
     "text": [
      "         tax           zn          rad         crim        indus         medv \n",
      " 78.23715415  11.36363636   4.54940711   3.35701356   1.44677866   1.33280632 \n",
      "       lstat          dis           rm          nox      ptratio          age \n",
      "  1.29306324   0.58759269   0.07613439   0.01669506  -0.59446640  -8.92509881 \n",
      "       black \n",
      "-34.76596838 \n"
     ]
    }
   ],
   "source": [
    "# Calculando a diferença entre o valor médio e mediano de cada variável.\n",
    "\n",
    "d <- sapply(stats[c('Median', 'Mean'), ], diff)\n",
    "\n",
    "# Ordenando em ordem decrescente a diferença entre o valor médio e mediano de cada variável.\n",
    "\n",
    "print(d[order(d, decreasing = T)])"
   ]
  },
  {
   "cell_type": "markdown",
   "metadata": {
    "colab_type": "text",
    "id": "HYDzQfceBJz_"
   },
   "source": [
    "Podemos observar que as variáveis **rm** e **nox** são as que apresentam as menores diferenças absolutas entre seus valores médio e mediano no dataset, ou seja, são as que mais se aproximam de uma distribuição normal.\n",
    "\n",
    "O coeficiente de variação das variáveis será a próxima estatística que vamos analisar."
   ]
  },
  {
   "cell_type": "code",
   "execution_count": 9,
   "metadata": {
    "colab": {
     "base_uri": "https://localhost:8080/",
     "height": 0
    },
    "colab_type": "code",
    "id": "WIbZmqNMSEFR",
    "outputId": "03379ae4-a28d-4ba0-a69d-853b5ca162dd"
   },
   "outputs": [
    {
     "data": {
      "text/html": [
       "<table>\n",
       "<thead><tr><th></th><th scope=col>Min</th><th scope=col>Q1</th><th scope=col>Median</th><th scope=col>Mean</th><th scope=col>Q3</th><th scope=col>Max</th><th scope=col>Sd</th><th scope=col>CV</th></tr></thead>\n",
       "<tbody>\n",
       "\t<tr><th scope=row>rm</th><td>  3.56100  </td><td>  5.885500 </td><td>  6.20850  </td><td>  6.2846344</td><td>  6.623500 </td><td>  8.7800   </td><td>  0.7026171</td><td> 11.17992  </td></tr>\n",
       "\t<tr><th scope=row>ptratio</th><td> 12.60000  </td><td> 17.400000 </td><td> 19.05000  </td><td> 18.4555336</td><td> 20.200000 </td><td> 22.0000   </td><td>  2.1649455</td><td> 11.73060  </td></tr>\n",
       "\t<tr><th scope=row>nox</th><td>  0.38500  </td><td>  0.449000 </td><td>  0.53800  </td><td>  0.5546951</td><td>  0.624000 </td><td>  0.8710   </td><td>  0.1158777</td><td> 20.89034  </td></tr>\n",
       "\t<tr><th scope=row>black</th><td>  0.32000  </td><td>375.377500 </td><td>391.44000  </td><td>356.6740316</td><td>396.225000 </td><td>396.9000   </td><td> 91.2948644</td><td> 25.59616  </td></tr>\n",
       "\t<tr><th scope=row>medv</th><td>  5.00000  </td><td> 17.025000 </td><td> 21.20000  </td><td> 22.5328063</td><td> 25.000000 </td><td> 50.0000   </td><td>  9.1971041</td><td> 40.81651  </td></tr>\n",
       "\t<tr><th scope=row>age</th><td>  2.90000  </td><td> 45.025000 </td><td> 77.50000  </td><td> 68.5749012</td><td> 94.075000 </td><td>100.0000   </td><td> 28.1488614</td><td> 41.04834  </td></tr>\n",
       "\t<tr><th scope=row>tax</th><td>187.00000  </td><td>279.000000 </td><td>330.00000  </td><td>408.2371542</td><td>666.000000 </td><td>711.0000   </td><td>168.5371161</td><td> 41.28412  </td></tr>\n",
       "\t<tr><th scope=row>dis</th><td>  1.12960  </td><td>  2.100175 </td><td>  3.20745  </td><td>  3.7950427</td><td>  5.188425 </td><td> 12.1265   </td><td>  2.1057101</td><td> 55.48581  </td></tr>\n",
       "\t<tr><th scope=row>lstat</th><td>  1.73000  </td><td>  6.950000 </td><td> 11.36000  </td><td> 12.6530632</td><td> 16.955000 </td><td> 37.9700   </td><td>  7.1410615</td><td> 56.43741  </td></tr>\n",
       "\t<tr><th scope=row>indus</th><td>  0.46000  </td><td>  5.190000 </td><td>  9.69000  </td><td> 11.1367787</td><td> 18.100000 </td><td> 27.7400   </td><td>  6.8603529</td><td> 61.60087  </td></tr>\n",
       "\t<tr><th scope=row>rad</th><td>  1.00000  </td><td>  4.000000 </td><td>  5.00000  </td><td>  9.5494071</td><td> 24.000000 </td><td> 24.0000   </td><td>  8.7072594</td><td> 91.18115  </td></tr>\n",
       "\t<tr><th scope=row>zn</th><td>  0.00000  </td><td>  0.000000 </td><td>  0.00000  </td><td> 11.3636364</td><td> 12.500000 </td><td>100.0000   </td><td> 23.3224530</td><td>205.23759  </td></tr>\n",
       "\t<tr><th scope=row>crim</th><td>  0.00632  </td><td>  0.082045 </td><td>  0.25651  </td><td>  3.6135236</td><td>  3.677083 </td><td> 88.9762   </td><td>  8.6015451</td><td>238.03761  </td></tr>\n",
       "</tbody>\n",
       "</table>\n"
      ],
      "text/latex": [
       "\\begin{tabular}{r|llllllll}\n",
       "  & Min & Q1 & Median & Mean & Q3 & Max & Sd & CV\\\\\n",
       "\\hline\n",
       "\trm &   3.56100   &   5.885500  &   6.20850   &   6.2846344 &   6.623500  &   8.7800    &   0.7026171 &  11.17992  \\\\\n",
       "\tptratio &  12.60000   &  17.400000  &  19.05000   &  18.4555336 &  20.200000  &  22.0000    &   2.1649455 &  11.73060  \\\\\n",
       "\tnox &   0.38500   &   0.449000  &   0.53800   &   0.5546951 &   0.624000  &   0.8710    &   0.1158777 &  20.89034  \\\\\n",
       "\tblack &   0.32000   & 375.377500  & 391.44000   & 356.6740316 & 396.225000  & 396.9000    &  91.2948644 &  25.59616  \\\\\n",
       "\tmedv &   5.00000   &  17.025000  &  21.20000   &  22.5328063 &  25.000000  &  50.0000    &   9.1971041 &  40.81651  \\\\\n",
       "\tage &   2.90000   &  45.025000  &  77.50000   &  68.5749012 &  94.075000  & 100.0000    &  28.1488614 &  41.04834  \\\\\n",
       "\ttax & 187.00000   & 279.000000  & 330.00000   & 408.2371542 & 666.000000  & 711.0000    & 168.5371161 &  41.28412  \\\\\n",
       "\tdis &   1.12960   &   2.100175  &   3.20745   &   3.7950427 &   5.188425  &  12.1265    &   2.1057101 &  55.48581  \\\\\n",
       "\tlstat &   1.73000   &   6.950000  &  11.36000   &  12.6530632 &  16.955000  &  37.9700    &   7.1410615 &  56.43741  \\\\\n",
       "\tindus &   0.46000   &   5.190000  &   9.69000   &  11.1367787 &  18.100000  &  27.7400    &   6.8603529 &  61.60087  \\\\\n",
       "\trad &   1.00000   &   4.000000  &   5.00000   &   9.5494071 &  24.000000  &  24.0000    &   8.7072594 &  91.18115  \\\\\n",
       "\tzn &   0.00000   &   0.000000  &   0.00000   &  11.3636364 &  12.500000  & 100.0000    &  23.3224530 & 205.23759  \\\\\n",
       "\tcrim &   0.00632   &   0.082045  &   0.25651   &   3.6135236 &   3.677083  &  88.9762    &   8.6015451 & 238.03761  \\\\\n",
       "\\end{tabular}\n"
      ],
      "text/markdown": [
       "\n",
       "| <!--/--> | Min | Q1 | Median | Mean | Q3 | Max | Sd | CV |\n",
       "|---|---|---|---|---|---|---|---|---|\n",
       "| rm |   3.56100   |   5.885500  |   6.20850   |   6.2846344 |   6.623500  |   8.7800    |   0.7026171 |  11.17992   |\n",
       "| ptratio |  12.60000   |  17.400000  |  19.05000   |  18.4555336 |  20.200000  |  22.0000    |   2.1649455 |  11.73060   |\n",
       "| nox |   0.38500   |   0.449000  |   0.53800   |   0.5546951 |   0.624000  |   0.8710    |   0.1158777 |  20.89034   |\n",
       "| black |   0.32000   | 375.377500  | 391.44000   | 356.6740316 | 396.225000  | 396.9000    |  91.2948644 |  25.59616   |\n",
       "| medv |   5.00000   |  17.025000  |  21.20000   |  22.5328063 |  25.000000  |  50.0000    |   9.1971041 |  40.81651   |\n",
       "| age |   2.90000   |  45.025000  |  77.50000   |  68.5749012 |  94.075000  | 100.0000    |  28.1488614 |  41.04834   |\n",
       "| tax | 187.00000   | 279.000000  | 330.00000   | 408.2371542 | 666.000000  | 711.0000    | 168.5371161 |  41.28412   |\n",
       "| dis |   1.12960   |   2.100175  |   3.20745   |   3.7950427 |   5.188425  |  12.1265    |   2.1057101 |  55.48581   |\n",
       "| lstat |   1.73000   |   6.950000  |  11.36000   |  12.6530632 |  16.955000  |  37.9700    |   7.1410615 |  56.43741   |\n",
       "| indus |   0.46000   |   5.190000  |   9.69000   |  11.1367787 |  18.100000  |  27.7400    |   6.8603529 |  61.60087   |\n",
       "| rad |   1.00000   |   4.000000  |   5.00000   |   9.5494071 |  24.000000  |  24.0000    |   8.7072594 |  91.18115   |\n",
       "| zn |   0.00000   |   0.000000  |   0.00000   |  11.3636364 |  12.500000  | 100.0000    |  23.3224530 | 205.23759   |\n",
       "| crim |   0.00632   |   0.082045  |   0.25651   |   3.6135236 |   3.677083  |  88.9762    |   8.6015451 | 238.03761   |\n",
       "\n"
      ],
      "text/plain": [
       "        Min       Q1         Median    Mean        Q3         Max     \n",
       "rm        3.56100   5.885500   6.20850   6.2846344   6.623500   8.7800\n",
       "ptratio  12.60000  17.400000  19.05000  18.4555336  20.200000  22.0000\n",
       "nox       0.38500   0.449000   0.53800   0.5546951   0.624000   0.8710\n",
       "black     0.32000 375.377500 391.44000 356.6740316 396.225000 396.9000\n",
       "medv      5.00000  17.025000  21.20000  22.5328063  25.000000  50.0000\n",
       "age       2.90000  45.025000  77.50000  68.5749012  94.075000 100.0000\n",
       "tax     187.00000 279.000000 330.00000 408.2371542 666.000000 711.0000\n",
       "dis       1.12960   2.100175   3.20745   3.7950427   5.188425  12.1265\n",
       "lstat     1.73000   6.950000  11.36000  12.6530632  16.955000  37.9700\n",
       "indus     0.46000   5.190000   9.69000  11.1367787  18.100000  27.7400\n",
       "rad       1.00000   4.000000   5.00000   9.5494071  24.000000  24.0000\n",
       "zn        0.00000   0.000000   0.00000  11.3636364  12.500000 100.0000\n",
       "crim      0.00632   0.082045   0.25651   3.6135236   3.677083  88.9762\n",
       "        Sd          CV       \n",
       "rm        0.7026171  11.17992\n",
       "ptratio   2.1649455  11.73060\n",
       "nox       0.1158777  20.89034\n",
       "black    91.2948644  25.59616\n",
       "medv      9.1971041  40.81651\n",
       "age      28.1488614  41.04834\n",
       "tax     168.5371161  41.28412\n",
       "dis       2.1057101  55.48581\n",
       "lstat     7.1410615  56.43741\n",
       "indus     6.8603529  61.60087\n",
       "rad       8.7072594  91.18115\n",
       "zn       23.3224530 205.23759\n",
       "crim      8.6015451 238.03761"
      ]
     },
     "metadata": {},
     "output_type": "display_data"
    }
   ],
   "source": [
    "# Transpondo o dataset com as estatísticas das variáveis.\n",
    "\n",
    "statsT <- as.data.frame(t(stats))\n",
    "\n",
    "# Ordenando em ordem crescente as linhas do dataframe a partir dos valores da variável CV.\n",
    "\n",
    "statsT[order(statsT$CV), ]"
   ]
  },
  {
   "cell_type": "markdown",
   "metadata": {
    "colab_type": "text",
    "id": "m1xg0EHrF1Lx"
   },
   "source": [
    "As variáveis **rm** e **ptratio** são as que apresentam os menores coeficientes de variação, ou seja, seus conjuntos de dados são os mais homogêneos. Isto nos indica que: \n",
    "\n",
    "* **rm**: O número de quartos varia muito pouco e;\n",
    "* **ptratio**: a proporção aluno-professor por cidade varia muito pouco.\n",
    "\n",
    "As variáveis  **zn** e **crim** são as que apresentam os maiores coeficientes de variação, ou seja, seus conjuntos de dados são os mais heterogêneos. Isto nos indica que:\n",
    "\n",
    "* **zn**: a proporção de terrenos residenciais divididos por lotes acima de 25.000 pés quadrados varia muito e;\n",
    "* **crim**: a taxa de criminalidade per capita por cidade varia muito."
   ]
  },
  {
   "cell_type": "markdown",
   "metadata": {
    "colab_type": "text",
    "id": "wKrgXgpbt0xy"
   },
   "source": [
    "### **3.2 Analisando a correlação entre as variáveis**"
   ]
  },
  {
   "cell_type": "markdown",
   "metadata": {
    "colab_type": "text",
    "id": "8y2JMqpp-Emn"
   },
   "source": [
    "Nesta etapa desejamos verificar como as variáveis se correlacionam, ou seja, como uma variável ajuda a prever o valor de outra variável no dataset."
   ]
  },
  {
   "cell_type": "code",
   "execution_count": 10,
   "metadata": {
    "colab": {
     "base_uri": "https://localhost:8080/",
     "height": 0
    },
    "colab_type": "code",
    "id": "d4Eqe2IZByb6",
    "outputId": "c89787cd-8b3c-4c30-8c99-7d729ba6b1f3"
   },
   "outputs": [
    {
     "data": {
      "image/png": "[encoded data removed]",
      "text/plain": [
       "plot without title"
      ]
     },
     "metadata": {},
     "output_type": "display_data"
    }
   ],
   "source": [
    "# Criando um pair plot para visualizar as correlações entre as variáveis númericas. \n",
    "\n",
    "ggpairs(data[, numVars]) + theme_bw()"
   ]
  },
  {
   "cell_type": "markdown",
   "metadata": {
    "colab_type": "text",
    "id": "yJ2D7qYw_PhQ"
   },
   "source": [
    "Algo interessante de se notar neste gráfico é a distribuição da variável **indus** que aparenta possuir 2 modas. Isso pode estar indicando a presença de dois subconjuntos de dados dentro da variável.\n",
    "\n",
    "Bom, vamos investigar mais detalhadamente a força e a direção dessas correlações."
   ]
  },
  {
   "cell_type": "code",
   "execution_count": 11,
   "metadata": {
    "colab": {
     "base_uri": "https://localhost:8080/",
     "height": 0
    },
    "colab_type": "code",
    "id": "YATZMnFb08rx",
    "outputId": "43bca8c0-6251-4e0f-d496-e98d0cdd094c"
   },
   "outputs": [
    {
     "data": {
      "image/png": "[encoded data removed]",
      "text/plain": [
       "Plot with title \"\""
      ]
     },
     "metadata": {},
     "output_type": "display_data"
    }
   ],
   "source": [
    "# Verificando a correlação entre as variáveis do dataset.\n",
    "\n",
    "corrplot(cor(data),\n",
    "         method      = 'color', \n",
    "         addCoef.col = 'white', \n",
    "         type        = 'upper', \n",
    "         tl.col      = 'black',\n",
    "         diag        = F\n",
    ")"
   ]
  },
  {
   "cell_type": "markdown",
   "metadata": {
    "colab_type": "text",
    "id": "BEqYBQy2E3vF"
   },
   "source": [
    "Vemos que a variável alvo **medv** possui uma correlação moderada ou forte com todas as demais variáveis preditoras exceto com **chas**.\n",
    "\n",
    "A variável **chas** apresenta um correlação fraca com todas as demais variáveis.\n",
    "\n",
    "Existem correlações muito fortes entre as variáveis preditoras com as quais deveremos ter atenção para evitar problemas de *overfitting*."
   ]
  },
  {
   "cell_type": "markdown",
   "metadata": {
    "colab_type": "text",
    "id": "EW2LWjBduD92"
   },
   "source": [
    "### **3.3 Explorando a distribuição de cada variável individualmente**"
   ]
  },
  {
   "cell_type": "markdown",
   "metadata": {
    "colab_type": "text",
    "id": "oUP-JYQ90e49"
   },
   "source": [
    "#### **3.3.1 Criando funções auxiliares**"
   ]
  },
  {
   "cell_type": "code",
   "execution_count": 12,
   "metadata": {
    "colab": {},
    "colab_type": "code",
    "id": "QNFQtM1LH1JL"
   },
   "outputs": [],
   "source": [
    "# Definindo uma função pra criar gráficos de densidade.\n",
    "\n",
    "densityPlot <- function(col, data) {\n",
    "\n",
    "  ggplot() +\n",
    "    geom_density(aes(data[, col]), fill = \"#C3D7A4\") +\n",
    "    labs(title = paste('Density plot for variable:', col)) +\n",
    "    xlab(col) +\n",
    "    theme_bw() \n",
    "}"
   ]
  },
  {
   "cell_type": "code",
   "execution_count": 13,
   "metadata": {
    "colab": {},
    "colab_type": "code",
    "id": "Y5Us78aYUAYh"
   },
   "outputs": [],
   "source": [
    "# Definindo uma função pra criar gráficos de boxplot.\n",
    "\n",
    "boxPlot <- function(col, data) {\n",
    "\n",
    "    ggplot() +\n",
    "        geom_boxplot(aes(y = data[, col]), fill = \"#B9314F\") +\n",
    "        labs(title = paste('Box plot for variable:', col)) +\n",
    "        xlab(col) +\n",
    "        theme_bw() + \n",
    "        theme(axis.text.x = element_blank()) +\n",
    "        ylab('')\n",
    "}"
   ]
  },
  {
   "cell_type": "code",
   "execution_count": 14,
   "metadata": {
    "colab": {},
    "colab_type": "code",
    "id": "ZwRz17CqcE7K"
   },
   "outputs": [],
   "source": [
    "# Definindo uma função pra criar gráficos de barras.\n",
    "\n",
    "barPlot <- function(col, data) {\n",
    "\n",
    "    ggplot() +\n",
    "        geom_bar(aes(x = data[, col]), fill = \"#FF934F\") +\n",
    "        labs(title = paste('Bar plot for variable:', col)) +\n",
    "        xlab(col) +\n",
    "        theme_bw()\n",
    "}"
   ]
  },
  {
   "cell_type": "markdown",
   "metadata": {
    "colab_type": "text",
    "id": "nCpms3z8GgyE"
   },
   "source": [
    "#### **3.3.2 Variável crim**"
   ]
  },
  {
   "cell_type": "code",
   "execution_count": 15,
   "metadata": {
    "colab": {
     "base_uri": "https://localhost:8080/",
     "height": 0
    },
    "colab_type": "code",
    "id": "iYpssVW7G2bk",
    "outputId": "8e80f818-cb7d-4482-f77b-eb55a1a45446"
   },
   "outputs": [
    {
     "data": {
      "image/png": "[encoded data removed]",
      "text/plain": [
       "plot without title"
      ]
     },
     "metadata": {},
     "output_type": "display_data"
    }
   ],
   "source": [
    "# Definindo o nome da variável a ser analisada.\n",
    "\n",
    "col <- 'crim'\n",
    "\n",
    "# Criando um gráfico de densidade para a variável especificada.\n",
    "\n",
    "densityPlot(col, data = data)"
   ]
  },
  {
   "cell_type": "markdown",
   "metadata": {
    "colab_type": "text",
    "id": "_Gd2zPFFJdtz"
   },
   "source": [
    "O gráfico nos demonstra que a taxa de criminalidade per capita por cidade está mais densamente concentrada no valor 0."
   ]
  },
  {
   "cell_type": "code",
   "execution_count": 16,
   "metadata": {
    "colab": {
     "base_uri": "https://localhost:8080/",
     "height": 0
    },
    "colab_type": "code",
    "id": "mwBgthB5T3Dy",
    "outputId": "21ceeaaf-0725-458b-fff1-b0958d4fe8a4"
   },
   "outputs": [
    {
     "data": {
      "image/png": "[encoded data removed]",
      "text/plain": [
       "plot without title"
      ]
     },
     "metadata": {},
     "output_type": "display_data"
    }
   ],
   "source": [
    "# Criando um boxplot para a variável especificada.\n",
    "\n",
    "boxPlot(col, data = data)"
   ]
  },
  {
   "cell_type": "markdown",
   "metadata": {
    "colab_type": "text",
    "id": "Zq4oUG6RWRLQ"
   },
   "source": [
    "O boxplot nos indica que há registros de casas com uma taxa de criminalidade per capita por cidade alta e discrepante dentro do conjunto de dados."
   ]
  },
  {
   "cell_type": "markdown",
   "metadata": {
    "colab_type": "text",
    "id": "3UBY-sULGql8"
   },
   "source": [
    "#### **3.3.3 Variável zn**"
   ]
  },
  {
   "cell_type": "code",
   "execution_count": 17,
   "metadata": {
    "colab": {
     "base_uri": "https://localhost:8080/",
     "height": 0
    },
    "colab_type": "code",
    "id": "tO-Hr40BYhXm",
    "outputId": "493ab19f-652c-4759-d534-46ad065fc1a0"
   },
   "outputs": [
    {
     "data": {
      "image/png": "[encoded data removed]",
      "text/plain": [
       "plot without title"
      ]
     },
     "metadata": {},
     "output_type": "display_data"
    }
   ],
   "source": [
    "# Definindo o nome da variável a ser analisada.\n",
    "\n",
    "col <- 'zn'\n",
    "\n",
    "# Criando um gráfico de densidade para a variável especificada.\n",
    "\n",
    "densityPlot(col, data = data)"
   ]
  },
  {
   "cell_type": "markdown",
   "metadata": {
    "colab_type": "text",
    "id": "rCvP4zMVYhX6"
   },
   "source": [
    "O gráfico nos demonstra que a proporção de terrenos residenciais está mais densamente concentrada no valor 0."
   ]
  },
  {
   "cell_type": "code",
   "execution_count": 18,
   "metadata": {
    "colab": {
     "base_uri": "https://localhost:8080/",
     "height": 0
    },
    "colab_type": "code",
    "id": "OAhpo96cYhX8",
    "outputId": "c935ac1c-3f6e-44ed-99b6-3f9061edf9e3"
   },
   "outputs": [
    {
     "data": {
      "image/png": "[encoded data removed]",
      "text/plain": [
       "plot without title"
      ]
     },
     "metadata": {},
     "output_type": "display_data"
    }
   ],
   "source": [
    "# Criando um boxplot para a variável especificada.\n",
    "\n",
    "boxPlot(col, data = data)"
   ]
  },
  {
   "cell_type": "markdown",
   "metadata": {
    "colab_type": "text",
    "id": "1PG3Oj9IYhYD"
   },
   "source": [
    "O boxplot nos indica que há registros de casas com proporção de terrenos residenciais alta e discrepante dentro do conjunto de dados."
   ]
  },
  {
   "cell_type": "markdown",
   "metadata": {
    "colab_type": "text",
    "id": "2cDCqqFeG3P6"
   },
   "source": [
    "#### **3.3.4 Variável indus**"
   ]
  },
  {
   "cell_type": "code",
   "execution_count": 19,
   "metadata": {
    "colab": {
     "base_uri": "https://localhost:8080/",
     "height": 0
    },
    "colab_type": "code",
    "id": "aTzFlAjvZSul",
    "outputId": "6315ac6f-7e25-44b7-d961-033b2fcdb8db"
   },
   "outputs": [
    {
     "data": {
      "image/png": "[encoded data removed]",
      "text/plain": [
       "plot without title"
      ]
     },
     "metadata": {},
     "output_type": "display_data"
    }
   ],
   "source": [
    "# Definindo o nome da variável a ser analisada.\n",
    "\n",
    "col <- 'indus'\n",
    "\n",
    "# Criando um gráfico de densidade para a variável especificada.\n",
    "\n",
    "densityPlot(col, data = data)"
   ]
  },
  {
   "cell_type": "markdown",
   "metadata": {
    "colab_type": "text",
    "id": "3s5vQ8fIZSu5"
   },
   "source": [
    "O gráfico nos demonstra que a proporção de acres não comerciais por cidade possui duas modas. Talvez, uma possível explicação para isso possa ser que o dataset possui conjunto de dados de regiões urbanas e rurais."
   ]
  },
  {
   "cell_type": "code",
   "execution_count": 20,
   "metadata": {
    "colab": {
     "base_uri": "https://localhost:8080/",
     "height": 0
    },
    "colab_type": "code",
    "id": "2D7nIG8vZSu8",
    "outputId": "0aff3752-2b16-4949-d99e-cc9be66ed000"
   },
   "outputs": [
    {
     "data": {
      "image/png": "[encoded data removed]",
      "text/plain": [
       "plot without title"
      ]
     },
     "metadata": {},
     "output_type": "display_data"
    }
   ],
   "source": [
    "# Criando um boxplot para a variável especificada.\n",
    "\n",
    "boxPlot(col, data = data)"
   ]
  },
  {
   "cell_type": "markdown",
   "metadata": {
    "colab_type": "text",
    "id": "mpSGaPuGZSvB"
   },
   "source": [
    "O boxplot nos indica que o conjunto de dados de proporções de acres não comerciais por cidade apresenta uma assimetria à direita."
   ]
  },
  {
   "cell_type": "markdown",
   "metadata": {
    "colab_type": "text",
    "id": "4J_iNrLMG6ym"
   },
   "source": [
    "#### **3.3.5 Variável chas**"
   ]
  },
  {
   "cell_type": "markdown",
   "metadata": {
    "colab_type": "text",
    "id": "kzV-5ejBds2M"
   },
   "source": [
    "A variável chas é categórica, por isso vamos convertê-la para o tipo factor."
   ]
  },
  {
   "cell_type": "code",
   "execution_count": 21,
   "metadata": {
    "colab": {
     "base_uri": "https://localhost:8080/",
     "height": 0
    },
    "colab_type": "code",
    "id": "FLBQ57N_b_qm",
    "outputId": "650d0bb9-1c90-41b0-c751-9b8b21e56410"
   },
   "outputs": [
    {
     "data": {
      "image/png": "[encoded data removed]",
      "text/plain": [
       "plot without title"
      ]
     },
     "metadata": {},
     "output_type": "display_data"
    }
   ],
   "source": [
    "# Definindo o nome da variável a ser analisada.\n",
    "\n",
    "col <- 'chas'\n",
    "\n",
    "# Criando uma cópia do conjunto de dados.\n",
    "\n",
    "dt <- data\n",
    "\n",
    "# Convertendo variável para o tipo factor.\n",
    "\n",
    "dt$chas <- factor(dt$chas, labels = c('No', 'Yes'))\n",
    "\n",
    "# Criando um gráfico de densidade para a variável especificada.\n",
    "\n",
    "barPlot(col, data = dt)"
   ]
  },
  {
   "cell_type": "markdown",
   "metadata": {
    "colab_type": "text",
    "id": "vi47Ef3Qd_ZA"
   },
   "source": [
    "Há um desbalançeamento entre as classes deste conjunto de dados. Vamos mensurar numericamente esta desproporção."
   ]
  },
  {
   "cell_type": "code",
   "execution_count": 22,
   "metadata": {
    "colab": {
     "base_uri": "https://localhost:8080/",
     "height": 0
    },
    "colab_type": "code",
    "id": "Z76MPcTxeMuP",
    "outputId": "29808998-fa7e-49be-fba4-ef00ae251d91"
   },
   "outputs": [
    {
     "data": {
      "text/plain": [
       "chas\n",
       "        No        Yes \n",
       "0.93083004 0.06916996 "
      ]
     },
     "metadata": {},
     "output_type": "display_data"
    }
   ],
   "source": [
    "# Determinando a proporção de registros para cada classe.\n",
    "\n",
    "prop.table(table(chas = dt$chas))\n",
    "\n",
    "# Eliminando cópia do dataset.\n",
    "\n",
    "rm(dt)"
   ]
  },
  {
   "cell_type": "markdown",
   "metadata": {
    "colab_type": "text",
    "id": "ZJgeysSjeiVJ"
   },
   "source": [
    "Concluímos que aproximadamente 93% dos registros indica casas que não limitam o rio Charles enquanto apenas 7% o limita."
   ]
  },
  {
   "cell_type": "markdown",
   "metadata": {
    "colab_type": "text",
    "id": "4LhnAyTMHAsi"
   },
   "source": [
    "#### **3.3.6 Variável nox**"
   ]
  },
  {
   "cell_type": "code",
   "execution_count": 23,
   "metadata": {
    "colab": {
     "base_uri": "https://localhost:8080/",
     "height": 0
    },
    "colab_type": "code",
    "id": "AhYhq7EWfEey",
    "outputId": "ae6bd4ff-3055-4018-db20-273fb2c1270f"
   },
   "outputs": [
    {
     "data": {
      "image/png": "[encoded data removed]",
      "text/plain": [
       "plot without title"
      ]
     },
     "metadata": {},
     "output_type": "display_data"
    }
   ],
   "source": [
    "# Definindo o nome da variável a ser analisada.\n",
    "\n",
    "col <- 'nox'\n",
    "\n",
    "# Criando um gráfico de densidade para a variável especificada.\n",
    "\n",
    "densityPlot(col, data = data)"
   ]
  },
  {
   "cell_type": "markdown",
   "metadata": {
    "colab_type": "text",
    "id": "LKRdzD1KfEe4"
   },
   "source": [
    "O gráfico nos demonstra a densidade da concentração de óxidos nítricos nos registros do conjunto de dados. Parece haver uma assimetria à direita. "
   ]
  },
  {
   "cell_type": "code",
   "execution_count": 24,
   "metadata": {
    "colab": {
     "base_uri": "https://localhost:8080/",
     "height": 0
    },
    "colab_type": "code",
    "id": "Ux5P7VwBfEe4",
    "outputId": "7792a0f5-a5a1-4782-d998-cdf22ec9b12c"
   },
   "outputs": [
    {
     "data": {
      "image/png": "[encoded data removed]",
      "text/plain": [
       "plot without title"
      ]
     },
     "metadata": {},
     "output_type": "display_data"
    }
   ],
   "source": [
    "# Criando um boxplot para a variável especificada.\n",
    "\n",
    "boxPlot(col, data = data)"
   ]
  },
  {
   "cell_type": "markdown",
   "metadata": {
    "colab_type": "text",
    "id": "3rykkAUAfEe7"
   },
   "source": [
    "O boxplot parece indicar que os dados entre o primeiro e o terceiro quartil estão igualmente distribuidos, mas a calda superior do boxplot é muito maior que a inferior.\n",
    "\n",
    "Para este caso, vamos calcular o coeficiente de **Assimetria** e **Curtose**."
   ]
  },
  {
   "cell_type": "code",
   "execution_count": 25,
   "metadata": {
    "colab": {
     "base_uri": "https://localhost:8080/",
     "height": 0
    },
    "colab_type": "code",
    "id": "zAkMaHGnklRD",
    "outputId": "f0bd0b6d-f95e-4b7c-c8aa-8cfffecd9ddb"
   },
   "outputs": [
    {
     "data": {
      "text/html": [
       "'SK: 0.724989659436866'"
      ],
      "text/latex": [
       "'SK: 0.724989659436866'"
      ],
      "text/markdown": [
       "'SK: 0.724989659436866'"
      ],
      "text/plain": [
       "[1] \"SK: 0.724989659436866\""
      ]
     },
     "metadata": {},
     "output_type": "display_data"
    }
   ],
   "source": [
    "# Determinando o coeficiente de assimetria para o conjunto de dados nox.\n",
    "\n",
    "sk <- skewness(data$nox)\n",
    "\n",
    "# Imprimindo o valor do índice.\n",
    "\n",
    "paste('SK:', sk)"
   ]
  },
  {
   "cell_type": "markdown",
   "metadata": {
    "colab_type": "text",
    "id": "qQTqSm4slOJq"
   },
   "source": [
    "Para interpretar o resultado obtido, vamos olhar a tabela a seguir:\n",
    "\n",
    "| Índice de Assimetria | Descrição                                                                                                                        |\n",
    "|:---------------------|:---------------------------------------------------------------------------------------------------------------------------------|\n",
    "| **SK ≈ 0**           | Os dados são simétricos. Tanto a cauda do lado direito quanto a do lado esquerdo da função densidade de probabilidade são iguais;|\n",
    "| **SK < 0**           | A assimetria é negativa. A cauda do lado esquerdo da função densidade de probabilidade é maior que a do lado direito e;          |\n",
    "| **SK > 0**           | A assimetria é positiva. A cauda do lado direito da função densidade de probabilidade é maior que a do lado esquerdo.            |\n",
    "\n",
    "Como o índice de assimetria da variável **nox** foi maior que 0, podemos afirmar que este conjunto de dados possui uma assimetria positiva."
   ]
  },
  {
   "cell_type": "code",
   "execution_count": 26,
   "metadata": {
    "colab": {
     "base_uri": "https://localhost:8080/",
     "height": 0
    },
    "colab_type": "code",
    "id": "Tgz9RQCvouLq",
    "outputId": "38f3c659-b205-49e0-f6dd-968fbf2ec9ed"
   },
   "outputs": [
    {
     "data": {
      "text/html": [
       "'CK: -0.0874106432551769'"
      ],
      "text/latex": [
       "'CK: -0.0874106432551769'"
      ],
      "text/markdown": [
       "'CK: -0.0874106432551769'"
      ],
      "text/plain": [
       "[1] \"CK: -0.0874106432551769\""
      ]
     },
     "metadata": {},
     "output_type": "display_data"
    }
   ],
   "source": [
    "# Determinando o coeficiente de curtose para o conjunto de dados nox.\n",
    "\n",
    "ck <- kurtosis(data$nox)\n",
    "\n",
    "# Imprimindo o valor do índice.\n",
    "\n",
    "paste('CK:', ck)"
   ]
  },
  {
   "cell_type": "markdown",
   "metadata": {
    "colab_type": "text",
    "id": "0Al8HLsdpPrE"
   },
   "source": [
    "O coeficiente de *curtose* é uma medida que caracteriza o **achatamento da curva** da função de distribuição.\n",
    "\n",
    "Para interpretar o resultado obtido, vamos olhar a tabela a seguir:\n",
    "\n",
    "| Índice de Curtose | Descrição                                                                                                      |\n",
    "|:------------------|:---------------------------------------------------------------------------------------------------------------|\n",
    "| **CK ≈ 0**        | A distribuição é normal e é chamada de Curtose *Mesocúrtica*;                                                  |\n",
    "| **CK < 0**        | A Cauda é mais leve que a normal. Para um coeficiente de Curtose negativo, tem-se uma Curtose *Platicúrtica* e;|\n",
    "| **CK > 0**        | A Cauda é mais pesada que a normal. Para um coeficiente de Curtose positivo, tem-se uma Curtose *Leptocúrtica*.|\n",
    "\n",
    "Como o índice de Curtose da variável **nox** é aproximadamente igual a 0, podemos afirmar que este conjunto de dados possui uma distribuição normal sendo classificada com curtose *mesocúrtica*.\n",
    "\n",
    "**Atenção:** Há diferentes fórmulas para calcular estes coeficientes. Mas, para este estudo utilizamos as funções fornecidas pela biblioteca **e1071** com suas respectivas configurações padrão. Em caso de dúvida, consulte a [documentação](https://cran.r-project.org/web/packages/e1071/e1071.pdf)."
   ]
  },
  {
   "cell_type": "markdown",
   "metadata": {
    "colab_type": "text",
    "id": "NSnwAbhtHD-5"
   },
   "source": [
    "#### **3.3.7 Variável rm**"
   ]
  },
  {
   "cell_type": "code",
   "execution_count": 27,
   "metadata": {
    "colab": {
     "base_uri": "https://localhost:8080/",
     "height": 0
    },
    "colab_type": "code",
    "id": "DUtvdmuGvz5v",
    "outputId": "00932923-e462-4f2b-d11f-cc6285d4496b"
   },
   "outputs": [
    {
     "data": {
      "image/png": "[encoded data removed]",
      "text/plain": [
       "plot without title"
      ]
     },
     "metadata": {},
     "output_type": "display_data"
    }
   ],
   "source": [
    "# Definindo o nome da variável a ser analisada.\n",
    "\n",
    "col <- 'rm'\n",
    "\n",
    "# Criando um gráfico de densidade para a variável especificada.\n",
    "\n",
    "densityPlot(col, data = data)"
   ]
  },
  {
   "cell_type": "markdown",
   "metadata": {
    "colab_type": "text",
    "id": "YdOhfsM1vz55"
   },
   "source": [
    "O gráfico nos demonstra que o número médio de quartos por habitação aparenta possuir uma distribuição normal."
   ]
  },
  {
   "cell_type": "code",
   "execution_count": 28,
   "metadata": {
    "colab": {
     "base_uri": "https://localhost:8080/",
     "height": 0
    },
    "colab_type": "code",
    "id": "KsdOkVLcvz58",
    "outputId": "ac925283-b89d-4d1c-97a7-debc918f467c"
   },
   "outputs": [
    {
     "data": {
      "image/png": "[encoded data removed]",
      "text/plain": [
       "plot without title"
      ]
     },
     "metadata": {},
     "output_type": "display_data"
    }
   ],
   "source": [
    "# Criando um boxplot para a variável especificada.\n",
    "\n",
    "boxPlot(col, data = data)"
   ]
  },
  {
   "cell_type": "markdown",
   "metadata": {
    "colab_type": "text",
    "id": "Ouso3zV6vz5_"
   },
   "source": [
    "O boxplot nos indica que há outliers na parte superior e inferior dos dados, mas a simetria parece se manter no gráfico.\n",
    "\n",
    "Vamos confirmar essa teoria utilizando os coeficientes de **Assimetria** e **Curtose** mais uma vez."
   ]
  },
  {
   "cell_type": "code",
   "execution_count": 29,
   "metadata": {
    "colab": {
     "base_uri": "https://localhost:8080/",
     "height": 0
    },
    "colab_type": "code",
    "id": "dkppVPsa04Qo",
    "outputId": "b7ad95a8-56ba-4752-a8dc-a85b06de31a6"
   },
   "outputs": [
    {
     "data": {
      "text/html": [
       "'SK: 0.401222328753187'"
      ],
      "text/latex": [
       "'SK: 0.401222328753187'"
      ],
      "text/markdown": [
       "'SK: 0.401222328753187'"
      ],
      "text/plain": [
       "[1] \"SK: 0.401222328753187\""
      ]
     },
     "metadata": {},
     "output_type": "display_data"
    }
   ],
   "source": [
    "# Determinando o coeficiente de assimetria para o conjunto de dados rm.\n",
    "\n",
    "sk <- skewness(data$rm)\n",
    "\n",
    "# Imprimindo o valor do índice.\n",
    "\n",
    "paste('SK:', sk)"
   ]
  },
  {
   "cell_type": "markdown",
   "metadata": {
    "colab_type": "text",
    "id": "BRDfmlMJ2j7x"
   },
   "source": [
    "O conjunto de dados da variável **rm** apresenta uma assimetria positiva, ou seja, a cauda do lado direito é maior do que a do lado esquerdo."
   ]
  },
  {
   "cell_type": "code",
   "execution_count": 30,
   "metadata": {
    "colab": {
     "base_uri": "https://localhost:8080/",
     "height": 0
    },
    "colab_type": "code",
    "id": "ZZy9fj6504Q4",
    "outputId": "5c8bdf87-9b31-4ef0-c1cc-405124aaffc1"
   },
   "outputs": [
    {
     "data": {
      "text/html": [
       "'CK: 1.8418324129018'"
      ],
      "text/latex": [
       "'CK: 1.8418324129018'"
      ],
      "text/markdown": [
       "'CK: 1.8418324129018'"
      ],
      "text/plain": [
       "[1] \"CK: 1.8418324129018\""
      ]
     },
     "metadata": {},
     "output_type": "display_data"
    }
   ],
   "source": [
    "# Determinando o coeficiente de curtose para o conjunto de dados rm.\n",
    "\n",
    "ck <- kurtosis(data$rm)\n",
    "\n",
    "# Imprimindo o valor do índice.\n",
    "\n",
    "paste('CK:', ck)"
   ]
  },
  {
   "cell_type": "markdown",
   "metadata": {
    "colab_type": "text",
    "id": "sgGB_pH93JzR"
   },
   "source": [
    "Como o coeficiente de **Curtose** para o conjunto de dados da variável **rm** é maior do que 0, podemos afirmar que este conjunto de dados possui uma calda mais pesada do que a normal."
   ]
  },
  {
   "cell_type": "markdown",
   "metadata": {
    "colab_type": "text",
    "id": "cBSAGWSDHH70"
   },
   "source": [
    "#### **3.3.8 Variável age**"
   ]
  },
  {
   "cell_type": "code",
   "execution_count": 31,
   "metadata": {
    "colab": {
     "base_uri": "https://localhost:8080/",
     "height": 0
    },
    "colab_type": "code",
    "id": "ugodZxOg0CQi",
    "outputId": "c3f8b96f-49ec-45ae-ade8-750c58ee5813"
   },
   "outputs": [
    {
     "data": {
      "image/png": "[encoded data removed]",
      "text/plain": [
       "plot without title"
      ]
     },
     "metadata": {},
     "output_type": "display_data"
    }
   ],
   "source": [
    "# Definindo o nome da variável a ser analisada.\n",
    "\n",
    "col <- 'age'\n",
    "\n",
    "# Criando um gráfico de densidade para a variável especificada.\n",
    "\n",
    "densityPlot(col, data = data)"
   ]
  },
  {
   "cell_type": "markdown",
   "metadata": {
    "colab_type": "text",
    "id": "mdlFKibh0CRF"
   },
   "source": [
    "O gráfico nos demonstra que a proporção de unidades ocupadas pelos proprietários construídas antes de 1940 tem a maior densidade entre 85 e 95 anos."
   ]
  },
  {
   "cell_type": "code",
   "execution_count": 32,
   "metadata": {
    "colab": {
     "base_uri": "https://localhost:8080/",
     "height": 0
    },
    "colab_type": "code",
    "id": "1P2oTeYw0CRG",
    "outputId": "6799700d-81dd-4405-a26e-b0fba9feb485"
   },
   "outputs": [
    {
     "data": {
      "image/png": "[encoded data removed]",
      "text/plain": [
       "plot without title"
      ]
     },
     "metadata": {},
     "output_type": "display_data"
    }
   ],
   "source": [
    "# Criando um boxplot para a variável especificada.\n",
    "\n",
    "boxPlot(col, data = data)"
   ]
  },
  {
   "cell_type": "markdown",
   "metadata": {
    "colab_type": "text",
    "id": "55VWrbay0CRL"
   },
   "source": [
    "O boxplot nos indica que o conjunto de dados da variável **age** possui uma assimetria à esquerda."
   ]
  },
  {
   "cell_type": "markdown",
   "metadata": {
    "colab_type": "text",
    "id": "t9HmMEoBHMGw"
   },
   "source": [
    "#### **3.3.9 Variável dis**"
   ]
  },
  {
   "cell_type": "code",
   "execution_count": 33,
   "metadata": {
    "colab": {
     "base_uri": "https://localhost:8080/",
     "height": 0
    },
    "colab_type": "code",
    "id": "P2D62p083RKv",
    "outputId": "08e59e10-b116-48a5-c2e2-15a26e5caba8"
   },
   "outputs": [
    {
     "data": {
      "image/png": "[encoded data removed]",
      "text/plain": [
       "plot without title"
      ]
     },
     "metadata": {},
     "output_type": "display_data"
    }
   ],
   "source": [
    "# Definindo o nome da variável a ser analisada.\n",
    "\n",
    "col <- 'dis'\n",
    "\n",
    "# Criando um gráfico de densidade para a variável especificada.\n",
    "\n",
    "densityPlot(col, data = data)"
   ]
  },
  {
   "cell_type": "markdown",
   "metadata": {
    "colab_type": "text",
    "id": "4lQfU2Mv3RLE"
   },
   "source": [
    "O gráfico nos demonstra que a distância ponderada de cinco centros de emprego em Boston tem a maior densidade em torno do valor 2.5."
   ]
  },
  {
   "cell_type": "code",
   "execution_count": 34,
   "metadata": {
    "colab": {
     "base_uri": "https://localhost:8080/",
     "height": 0
    },
    "colab_type": "code",
    "id": "Q_xGAHz43RLF",
    "outputId": "1873795e-4119-402c-97ff-c21cec8e5d1b"
   },
   "outputs": [
    {
     "data": {
      "image/png": "[encoded data removed]",
      "text/plain": [
       "plot without title"
      ]
     },
     "metadata": {},
     "output_type": "display_data"
    }
   ],
   "source": [
    "# Criando um boxplot para a variável especificada.\n",
    "\n",
    "boxPlot(col, data = data)"
   ]
  },
  {
   "cell_type": "markdown",
   "metadata": {
    "colab_type": "text",
    "id": "TbD3_buk3RLJ"
   },
   "source": [
    "O boxplot nos indica que o conjunto de dados da variável **dis** possui uma assimetria à direita."
   ]
  },
  {
   "cell_type": "markdown",
   "metadata": {
    "colab_type": "text",
    "id": "qJeW1WC_HP6e"
   },
   "source": [
    "#### **3.3.10 Variável rad**"
   ]
  },
  {
   "cell_type": "code",
   "execution_count": 35,
   "metadata": {
    "colab": {
     "base_uri": "https://localhost:8080/",
     "height": 0
    },
    "colab_type": "code",
    "id": "gVcWSna_32FE",
    "outputId": "bb735703-57b0-4623-ac49-7daf2a3c8962"
   },
   "outputs": [
    {
     "data": {
      "image/png": "[encoded data removed]",
      "text/plain": [
       "plot without title"
      ]
     },
     "metadata": {},
     "output_type": "display_data"
    }
   ],
   "source": [
    "# Definindo o nome da variável a ser analisada.\n",
    "\n",
    "col <- 'rad'\n",
    "\n",
    "# Criando um gráfico de densidade para a variável especificada.\n",
    "\n",
    "densityPlot(col, data = data)"
   ]
  },
  {
   "cell_type": "markdown",
   "metadata": {
    "colab_type": "text",
    "id": "ilgTyjuw32FL"
   },
   "source": [
    "O gráfico nos demonstra que o índice de acessibilidade às rodovias radiais possui dois valores aproximadamente mais frequentes, 5 e 24."
   ]
  },
  {
   "cell_type": "code",
   "execution_count": 36,
   "metadata": {
    "colab": {
     "base_uri": "https://localhost:8080/",
     "height": 0
    },
    "colab_type": "code",
    "id": "4RR3kV1n32FM",
    "outputId": "bd4784b1-4e4e-46ec-82cf-d4613127bb99"
   },
   "outputs": [
    {
     "data": {
      "image/png": "[encoded data removed]",
      "text/plain": [
       "plot without title"
      ]
     },
     "metadata": {},
     "output_type": "display_data"
    }
   ],
   "source": [
    "# Criando um boxplot para a variável especificada.\n",
    "\n",
    "boxPlot(col, data = data)"
   ]
  },
  {
   "cell_type": "markdown",
   "metadata": {
    "colab_type": "text",
    "id": "fQebyhqd32FQ"
   },
   "source": [
    "O boxplot nos indica que o conjunto de dados da variável **rad** possui uma assimetria à direita."
   ]
  },
  {
   "cell_type": "markdown",
   "metadata": {
    "colab_type": "text",
    "id": "2_sjDxikHWXj"
   },
   "source": [
    "#### **3.3.11 Variável tax**"
   ]
  },
  {
   "cell_type": "code",
   "execution_count": 37,
   "metadata": {
    "colab": {
     "base_uri": "https://localhost:8080/",
     "height": 0
    },
    "colab_type": "code",
    "id": "ZRjI5qNa5Db8",
    "outputId": "79108f39-49c5-4dfb-b9f5-2ebdec997208"
   },
   "outputs": [
    {
     "data": {
      "image/png": "[encoded data removed]",
      "text/plain": [
       "plot without title"
      ]
     },
     "metadata": {},
     "output_type": "display_data"
    }
   ],
   "source": [
    "# Definindo o nome da variável a ser analisada.\n",
    "\n",
    "col <- 'tax'\n",
    "\n",
    "# Criando um gráfico de densidade para a variável especificada.\n",
    "\n",
    "densityPlot(col, data = data)"
   ]
  },
  {
   "cell_type": "markdown",
   "metadata": {
    "colab_type": "text",
    "id": "T1YT_Nl25DcH"
   },
   "source": [
    "O gráfico nos demonstra que  a taxa de imposto sobre a propriedade possui aproximadamente dois valores mais frequentes, 300 e 660."
   ]
  },
  {
   "cell_type": "code",
   "execution_count": 38,
   "metadata": {
    "colab": {
     "base_uri": "https://localhost:8080/",
     "height": 0
    },
    "colab_type": "code",
    "id": "sPtW1C-e5DcI",
    "outputId": "2cb1997c-ef78-42cc-868f-4c126b0f0cfc"
   },
   "outputs": [
    {
     "data": {
      "image/png": "[encoded data removed]",
      "text/plain": [
       "plot without title"
      ]
     },
     "metadata": {},
     "output_type": "display_data"
    }
   ],
   "source": [
    "# Criando um boxplot para a variável especificada.\n",
    "\n",
    "boxPlot(col, data = data)"
   ]
  },
  {
   "cell_type": "markdown",
   "metadata": {
    "colab_type": "text",
    "id": "KOLBK4uU5DcN"
   },
   "source": [
    "O boxplot nos indica que o conjunto de dados da variável **tax** possui uma assimetria à direita."
   ]
  },
  {
   "cell_type": "markdown",
   "metadata": {
    "colab_type": "text",
    "id": "SJ0iyuW7HaqM"
   },
   "source": [
    "#### **3.3.12 Variável ptratio**"
   ]
  },
  {
   "cell_type": "code",
   "execution_count": 39,
   "metadata": {
    "colab": {
     "base_uri": "https://localhost:8080/",
     "height": 0
    },
    "colab_type": "code",
    "id": "Or4O52eE5u28",
    "outputId": "370d4d06-a6ca-4762-cad2-1e520645c07e"
   },
   "outputs": [
    {
     "data": {
      "image/png": "[encoded data removed]",
      "text/plain": [
       "plot without title"
      ]
     },
     "metadata": {},
     "output_type": "display_data"
    }
   ],
   "source": [
    "# Definindo o nome da variável a ser analisada.\n",
    "\n",
    "col <- 'ptratio'\n",
    "\n",
    "# Criando um gráfico de densidade para a variável especificada.\n",
    "\n",
    "densityPlot(col, data = data)"
   ]
  },
  {
   "cell_type": "markdown",
   "metadata": {
    "colab_type": "text",
    "id": "xa33ObEm5u3M"
   },
   "source": [
    "O gráfico nos demonstra que a proporção aluno-professor por cidade tem maior densidade no valor 20."
   ]
  },
  {
   "cell_type": "code",
   "execution_count": 40,
   "metadata": {
    "colab": {
     "base_uri": "https://localhost:8080/",
     "height": 0
    },
    "colab_type": "code",
    "id": "CPOzHLP-5u3P",
    "outputId": "7681b0e0-1c60-4744-8f3a-6e0881a5c7cb"
   },
   "outputs": [
    {
     "data": {
      "image/png": "[encoded data removed]",
      "text/plain": [
       "plot without title"
      ]
     },
     "metadata": {},
     "output_type": "display_data"
    }
   ],
   "source": [
    "# Criando um boxplot para a variável especificada.\n",
    "\n",
    "boxPlot(col, data = data)"
   ]
  },
  {
   "cell_type": "markdown",
   "metadata": {
    "colab_type": "text",
    "id": "mlJsgRsx5u3a"
   },
   "source": [
    "O boxplot nos indica que o conjunto de dados da variável **ptratio** possui uma assimetria à esquerda."
   ]
  },
  {
   "cell_type": "markdown",
   "metadata": {
    "colab_type": "text",
    "id": "v-UMGlvpHfrL"
   },
   "source": [
    "#### **3.3.13 Variável black**"
   ]
  },
  {
   "cell_type": "code",
   "execution_count": 41,
   "metadata": {
    "colab": {
     "base_uri": "https://localhost:8080/",
     "height": 0
    },
    "colab_type": "code",
    "id": "ePk7sTcJ6vzj",
    "outputId": "8a97d38c-3189-4aeb-9d65-3f4571e8db9a"
   },
   "outputs": [
    {
     "data": {
      "image/png": "[encoded data removed]",
      "text/plain": [
       "plot without title"
      ]
     },
     "metadata": {},
     "output_type": "display_data"
    }
   ],
   "source": [
    "# Definindo o nome da variável a ser analisada.\n",
    "\n",
    "col <- 'black'\n",
    "\n",
    "# Criando um gráfico de densidade para a variável especificada.\n",
    "\n",
    "densityPlot(col, data = data)"
   ]
  },
  {
   "cell_type": "markdown",
   "metadata": {
    "colab_type": "text",
    "id": "smrU_2Q_6vz6"
   },
   "source": [
    "O gráfico nos demonstra que  a proporção de negros apresenta a maior densidade em torno do valor 400."
   ]
  },
  {
   "cell_type": "code",
   "execution_count": 42,
   "metadata": {
    "colab": {
     "base_uri": "https://localhost:8080/",
     "height": 0
    },
    "colab_type": "code",
    "id": "gMronaex6vz8",
    "outputId": "c27dfefb-4b72-445c-dac7-4b8b886808df"
   },
   "outputs": [
    {
     "data": {
      "image/png": "[encoded data removed]",
      "text/plain": [
       "plot without title"
      ]
     },
     "metadata": {},
     "output_type": "display_data"
    }
   ],
   "source": [
    "# Criando um boxplot para a variável especificada.\n",
    "\n",
    "boxPlot(col, data = data)"
   ]
  },
  {
   "cell_type": "markdown",
   "metadata": {
    "colab_type": "text",
    "id": "tgaxeTvO6v0G"
   },
   "source": [
    "O boxplot nos indica que o conjunto de dados da variável **black** possui uma assimetria à esquerda com muitos outliers inferiores."
   ]
  },
  {
   "cell_type": "markdown",
   "metadata": {
    "colab_type": "text",
    "id": "mtq19XOyHjio"
   },
   "source": [
    "#### **3.3.14 Variável lstat**"
   ]
  },
  {
   "cell_type": "code",
   "execution_count": 43,
   "metadata": {
    "colab": {
     "base_uri": "https://localhost:8080/",
     "height": 0
    },
    "colab_type": "code",
    "id": "MAzK_bEY7wEY",
    "outputId": "8f5c75cd-f010-4964-8b24-ac37a16c5f30"
   },
   "outputs": [
    {
     "data": {
      "image/png": "[encoded data removed]",
      "text/plain": [
       "plot without title"
      ]
     },
     "metadata": {},
     "output_type": "display_data"
    }
   ],
   "source": [
    "# Definindo o nome da variável a ser analisada.\n",
    "\n",
    "col <- 'lstat'\n",
    "\n",
    "# Criando um gráfico de densidade para a variável especificada.\n",
    "\n",
    "densityPlot(col, data = data)"
   ]
  },
  {
   "cell_type": "markdown",
   "metadata": {
    "colab_type": "text",
    "id": "w75LKW0D7wEp"
   },
   "source": [
    "O gráfico nos demonstra que a menor porcentagem do status da população tem maior densidade em torno do valor 10."
   ]
  },
  {
   "cell_type": "code",
   "execution_count": 44,
   "metadata": {
    "colab": {
     "base_uri": "https://localhost:8080/",
     "height": 0
    },
    "colab_type": "code",
    "id": "StFSWwbK7wEq",
    "outputId": "8656f823-9cff-46f7-da49-f9c04edd98b2"
   },
   "outputs": [
    {
     "data": {
      "image/png": "[encoded data removed]",
      "text/plain": [
       "plot without title"
      ]
     },
     "metadata": {},
     "output_type": "display_data"
    }
   ],
   "source": [
    "# Criando um boxplot para a variável especificada.\n",
    "\n",
    "boxPlot(col, data = data)"
   ]
  },
  {
   "cell_type": "markdown",
   "metadata": {
    "colab_type": "text",
    "id": "8ypFeY9F7wEv"
   },
   "source": [
    "O boxplot nos indica que o conjunto de dados da variável **lstat** possui uma assimetria à direita com muitos outliers superiores."
   ]
  },
  {
   "cell_type": "markdown",
   "metadata": {
    "colab_type": "text",
    "id": "-Tv47SCruQQl"
   },
   "source": [
    "### **3.4 Teste de hipóteses entre as variáveis medv e chas**"
   ]
  },
  {
   "cell_type": "markdown",
   "metadata": {
    "colab_type": "text",
    "id": "nwBJtQqd878O"
   },
   "source": [
    "Por curiosidade, vamos análisar se existe uma diferença estatisticamente significativa entre os preços de casas que limitam ou não o rio Charles. Para isto, vamos criar um gráfico para visualizar a distribuição dos preços das casas em função das classes da variável **chas**."
   ]
  },
  {
   "cell_type": "code",
   "execution_count": 45,
   "metadata": {
    "colab": {
     "base_uri": "https://localhost:8080/",
     "height": 0
    },
    "colab_type": "code",
    "id": "xzUkxn0ICIcp",
    "outputId": "2fc85f06-bd19-4577-dbee-9d9d87f1613f"
   },
   "outputs": [
    {
     "data": {
      "image/png": "[encoded data removed]",
      "text/plain": [
       "plot without title"
      ]
     },
     "metadata": {},
     "output_type": "display_data"
    }
   ],
   "source": [
    "# Análisando a distribuição dos preços das casas a partir da variável chas.\n",
    "\n",
    "ggplot() +\n",
    "  geom_boxplot(aes(x = factor(data[, 'chas'], labels = c('No', 'Yes')), y = data[, 'medv'] ), fill = \"#C96480\") +\n",
    "  labs(title = 'Relationship between medv and chas') +\n",
    "  xlab('chas') +\n",
    "  ylab('medv') +\n",
    "  theme_bw() "
   ]
  },
  {
   "cell_type": "markdown",
   "metadata": {
    "colab_type": "text",
    "id": "KmBRnZFR9yOg"
   },
   "source": [
    "Interessante, parece que as casas que não limitam o rio Charles apresentam preços medianos menores do que as casas que o fazem.\n",
    "\n",
    "Mas, vamos aplicar um **teste T** para verificar se essa interpretação está efetivamente correta."
   ]
  },
  {
   "cell_type": "code",
   "execution_count": 46,
   "metadata": {
    "colab": {},
    "colab_type": "code",
    "id": "s2rhhZPACIan"
   },
   "outputs": [],
   "source": [
    "## Criando um teste T para verificar se a diferença das médias dos preços das casas (medv) agrupados por chas apresentam uma diferença na média estatisticamente significativa.\n",
    "\n",
    "# Agrupando grupos dos valores das casas segundo a variável chas.\n",
    "\n",
    "chasY <- data[data$chas == 1, 'medv'] \n",
    "\n",
    "chasN <- data[data$chas == 0, 'medv'] "
   ]
  },
  {
   "cell_type": "markdown",
   "metadata": {
    "colab_type": "text",
    "id": "z6gKxY6Eu1pS"
   },
   "source": [
    "Definiremos nossas hipóteses da seguinte maneira:"
   ]
  },
  {
   "cell_type": "markdown",
   "metadata": {
    "colab_type": "text",
    "id": "98Xo-T0GuKud"
   },
   "source": [
    "| Teste de hipótese                                                                           |\n",
    "|:--------------------------------------------------------------------------------------------|\n",
    "|**H0:** As médias dos preços das casas que limitam ou não o rio Charles River são iguais.    |\n",
    "|**Ha:** As médias dos preços das casas que limitam ou não o rio Charles River são diferentes.|\n"
   ]
  },
  {
   "cell_type": "code",
   "execution_count": 47,
   "metadata": {
    "colab": {
     "base_uri": "https://localhost:8080/",
     "height": 0
    },
    "colab_type": "code",
    "id": "PRDKGMi9uEZa",
    "outputId": "5d138574-e274-4b97-b02b-4381d6df034d"
   },
   "outputs": [
    {
     "data": {
      "text/plain": [
       "\n",
       "\tWelch Two Sample t-test\n",
       "\n",
       "data:  chasY and chasN\n",
       "t = 3.1133, df = 36.876, p-value = 0.003567\n",
       "alternative hypothesis: true difference in means is not equal to 0\n",
       "95 percent confidence interval:\n",
       "  2.215483 10.476831\n",
       "sample estimates:\n",
       "mean of x mean of y \n",
       " 28.44000  22.09384 \n"
      ]
     },
     "metadata": {},
     "output_type": "display_data"
    }
   ],
   "source": [
    "# Aplicando o teste T.\n",
    "\n",
    "t.test(chasY, chasN)"
   ]
  },
  {
   "cell_type": "markdown",
   "metadata": {
    "colab_type": "text",
    "id": "plWPZHkz_Ly9"
   },
   "source": [
    "Há evidências suficientes, com um nível de significância de 5%, para rejeitar a hipótese nula de que as médias dos preços das casas que limitam ou não o rio Charles River são iguais.\n",
    "\n",
    "Concluímos que *há uma diferença estatisticamente* significativa entre os preços das casas que limitam e as que não limitam o rio charles. "
   ]
  },
  {
   "cell_type": "markdown",
   "metadata": {
    "colab_type": "text",
    "id": "1HxSDcoXq9OR"
   },
   "source": [
    "## **4 Data Munging**\n"
   ]
  },
  {
   "cell_type": "markdown",
   "metadata": {
    "colab_type": "text",
    "id": "W-4LCUR-ADwb"
   },
   "source": [
    "Nesta etapa vamos escalar os valores das variáveis do dataset entre 0 e 1."
   ]
  },
  {
   "cell_type": "code",
   "execution_count": 48,
   "metadata": {
    "colab": {
     "base_uri": "https://localhost:8080/",
     "height": 0
    },
    "colab_type": "code",
    "id": "2nXKmE3ovDDZ",
    "outputId": "5c889dd0-e998-4c7e-fd6e-a8561f349939"
   },
   "outputs": [
    {
     "data": {
      "text/html": [
       "<table>\n",
       "<thead><tr><th scope=col>crim</th><th scope=col>zn</th><th scope=col>indus</th><th scope=col>chas</th><th scope=col>nox</th><th scope=col>rm</th><th scope=col>age</th><th scope=col>dis</th><th scope=col>rad</th><th scope=col>tax</th><th scope=col>ptratio</th><th scope=col>black</th><th scope=col>lstat</th><th scope=col>medv</th></tr></thead>\n",
       "<tbody>\n",
       "\t<tr><td>0.0000000000</td><td>0.18        </td><td>0.06781525  </td><td>0           </td><td>0.3148148   </td><td>0.5775053   </td><td>0.6416066   </td><td>0.2692031   </td><td>0.00000000  </td><td>0.20801527  </td><td>0.2872340   </td><td>1.0000000   </td><td>0.08967991  </td><td>0.4222222   </td></tr>\n",
       "\t<tr><td>0.0002359225</td><td>0.00        </td><td>0.24230205  </td><td>0           </td><td>0.1728395   </td><td>0.5479977   </td><td>0.7826982   </td><td>0.3489620   </td><td>0.04347826  </td><td>0.10496183  </td><td>0.5531915   </td><td>1.0000000   </td><td>0.20447020  </td><td>0.3688889   </td></tr>\n",
       "\t<tr><td>0.0002356977</td><td>0.00        </td><td>0.24230205  </td><td>0           </td><td>0.1728395   </td><td>0.6943859   </td><td>0.5993821   </td><td>0.3489620   </td><td>0.04347826  </td><td>0.10496183  </td><td>0.5531915   </td><td>0.9897373   </td><td>0.06346578  </td><td>0.6600000   </td></tr>\n",
       "\t<tr><td>0.0002927957</td><td>0.00        </td><td>0.06304985  </td><td>0           </td><td>0.1502058   </td><td>0.6585553   </td><td>0.4418126   </td><td>0.4485446   </td><td>0.08695652  </td><td>0.06679389  </td><td>0.6489362   </td><td>0.9942761   </td><td>0.03338852  </td><td>0.6311111   </td></tr>\n",
       "\t<tr><td>0.0007050701</td><td>0.00        </td><td>0.06304985  </td><td>0           </td><td>0.1502058   </td><td>0.6871048   </td><td>0.5283213   </td><td>0.4485446   </td><td>0.08695652  </td><td>0.06679389  </td><td>0.6489362   </td><td>1.0000000   </td><td>0.09933775  </td><td>0.6933333   </td></tr>\n",
       "\t<tr><td>0.0002644715</td><td>0.00        </td><td>0.06304985  </td><td>0           </td><td>0.1502058   </td><td>0.5497222   </td><td>0.5746653   </td><td>0.4485446   </td><td>0.08695652  </td><td>0.06679389  </td><td>0.6489362   </td><td>0.9929901   </td><td>0.09602649  </td><td>0.5266667   </td></tr>\n",
       "</tbody>\n",
       "</table>\n"
      ],
      "text/latex": [
       "\\begin{tabular}{r|llllllllllllll}\n",
       " crim & zn & indus & chas & nox & rm & age & dis & rad & tax & ptratio & black & lstat & medv\\\\\n",
       "\\hline\n",
       "\t 0.0000000000 & 0.18         & 0.06781525   & 0            & 0.3148148    & 0.5775053    & 0.6416066    & 0.2692031    & 0.00000000   & 0.20801527   & 0.2872340    & 1.0000000    & 0.08967991   & 0.4222222   \\\\\n",
       "\t 0.0002359225 & 0.00         & 0.24230205   & 0            & 0.1728395    & 0.5479977    & 0.7826982    & 0.3489620    & 0.04347826   & 0.10496183   & 0.5531915    & 1.0000000    & 0.20447020   & 0.3688889   \\\\\n",
       "\t 0.0002356977 & 0.00         & 0.24230205   & 0            & 0.1728395    & 0.6943859    & 0.5993821    & 0.3489620    & 0.04347826   & 0.10496183   & 0.5531915    & 0.9897373    & 0.06346578   & 0.6600000   \\\\\n",
       "\t 0.0002927957 & 0.00         & 0.06304985   & 0            & 0.1502058    & 0.6585553    & 0.4418126    & 0.4485446    & 0.08695652   & 0.06679389   & 0.6489362    & 0.9942761    & 0.03338852   & 0.6311111   \\\\\n",
       "\t 0.0007050701 & 0.00         & 0.06304985   & 0            & 0.1502058    & 0.6871048    & 0.5283213    & 0.4485446    & 0.08695652   & 0.06679389   & 0.6489362    & 1.0000000    & 0.09933775   & 0.6933333   \\\\\n",
       "\t 0.0002644715 & 0.00         & 0.06304985   & 0            & 0.1502058    & 0.5497222    & 0.5746653    & 0.4485446    & 0.08695652   & 0.06679389   & 0.6489362    & 0.9929901    & 0.09602649   & 0.5266667   \\\\\n",
       "\\end{tabular}\n"
      ],
      "text/markdown": [
       "\n",
       "| crim | zn | indus | chas | nox | rm | age | dis | rad | tax | ptratio | black | lstat | medv |\n",
       "|---|---|---|---|---|---|---|---|---|---|---|---|---|---|\n",
       "| 0.0000000000 | 0.18         | 0.06781525   | 0            | 0.3148148    | 0.5775053    | 0.6416066    | 0.2692031    | 0.00000000   | 0.20801527   | 0.2872340    | 1.0000000    | 0.08967991   | 0.4222222    |\n",
       "| 0.0002359225 | 0.00         | 0.24230205   | 0            | 0.1728395    | 0.5479977    | 0.7826982    | 0.3489620    | 0.04347826   | 0.10496183   | 0.5531915    | 1.0000000    | 0.20447020   | 0.3688889    |\n",
       "| 0.0002356977 | 0.00         | 0.24230205   | 0            | 0.1728395    | 0.6943859    | 0.5993821    | 0.3489620    | 0.04347826   | 0.10496183   | 0.5531915    | 0.9897373    | 0.06346578   | 0.6600000    |\n",
       "| 0.0002927957 | 0.00         | 0.06304985   | 0            | 0.1502058    | 0.6585553    | 0.4418126    | 0.4485446    | 0.08695652   | 0.06679389   | 0.6489362    | 0.9942761    | 0.03338852   | 0.6311111    |\n",
       "| 0.0007050701 | 0.00         | 0.06304985   | 0            | 0.1502058    | 0.6871048    | 0.5283213    | 0.4485446    | 0.08695652   | 0.06679389   | 0.6489362    | 1.0000000    | 0.09933775   | 0.6933333    |\n",
       "| 0.0002644715 | 0.00         | 0.06304985   | 0            | 0.1502058    | 0.5497222    | 0.5746653    | 0.4485446    | 0.08695652   | 0.06679389   | 0.6489362    | 0.9929901    | 0.09602649   | 0.5266667    |\n",
       "\n"
      ],
      "text/plain": [
       "  crim         zn   indus      chas nox       rm        age       dis      \n",
       "1 0.0000000000 0.18 0.06781525 0    0.3148148 0.5775053 0.6416066 0.2692031\n",
       "2 0.0002359225 0.00 0.24230205 0    0.1728395 0.5479977 0.7826982 0.3489620\n",
       "3 0.0002356977 0.00 0.24230205 0    0.1728395 0.6943859 0.5993821 0.3489620\n",
       "4 0.0002927957 0.00 0.06304985 0    0.1502058 0.6585553 0.4418126 0.4485446\n",
       "5 0.0007050701 0.00 0.06304985 0    0.1502058 0.6871048 0.5283213 0.4485446\n",
       "6 0.0002644715 0.00 0.06304985 0    0.1502058 0.5497222 0.5746653 0.4485446\n",
       "  rad        tax        ptratio   black     lstat      medv     \n",
       "1 0.00000000 0.20801527 0.2872340 1.0000000 0.08967991 0.4222222\n",
       "2 0.04347826 0.10496183 0.5531915 1.0000000 0.20447020 0.3688889\n",
       "3 0.04347826 0.10496183 0.5531915 0.9897373 0.06346578 0.6600000\n",
       "4 0.08695652 0.06679389 0.6489362 0.9942761 0.03338852 0.6311111\n",
       "5 0.08695652 0.06679389 0.6489362 1.0000000 0.09933775 0.6933333\n",
       "6 0.08695652 0.06679389 0.6489362 0.9929901 0.09602649 0.5266667"
      ]
     },
     "metadata": {},
     "output_type": "display_data"
    }
   ],
   "source": [
    "# Definindo método de pré-processamento.\n",
    "\n",
    "params <- preProcess(data, method = 'range')\n",
    "\n",
    "# Transformando os dados.\n",
    "\n",
    "data <- predict(params, data)\n",
    "\n",
    "# Visualizando as primeiras linhas do dataset.\n",
    "\n",
    "head(data)"
   ]
  },
  {
   "cell_type": "markdown",
   "metadata": {
    "colab_type": "text",
    "id": "c7dXcxq-wyp1"
   },
   "source": [
    "## **5. Modelagem Preditiva**"
   ]
  },
  {
   "cell_type": "markdown",
   "metadata": {
    "colab_type": "text",
    "id": "23iDNqWyw1y0"
   },
   "source": [
    "### **5.1 Importando bibliotecas necessárias**"
   ]
  },
  {
   "cell_type": "code",
   "execution_count": null,
   "metadata": {
    "colab": {
     "base_uri": "https://localhost:8080/",
     "height": 0
    },
    "colab_type": "code",
    "id": "GGKbwSsNFRw7",
    "outputId": "f918e351-88b0-4cfd-fab0-7e3a6f33ba0d"
   },
   "outputs": [],
   "source": [
    "# Caso não possua uma das bibliotecas importadas abaixo, a instale com um dos comandos a seguir:\n",
    "\n",
    "install.packages(c(\n",
    "    'e1071',\n",
    "    'neuralnet',\n",
    "    'xgboost',\n",
    "    'randomForest',\n",
    "    'pROC',\n",
    "    'C50',\n",
    "    'fastAdaboost'\n",
    "))"
   ]
  },
  {
   "cell_type": "code",
   "execution_count": null,
   "metadata": {
    "colab": {
     "base_uri": "https://localhost:8080/",
     "height": 0
    },
    "colab_type": "code",
    "id": "Qn0fViE_G9ga",
    "outputId": "4955d84c-7816-4328-94ee-3e9a63c62ac1"
   },
   "outputs": [],
   "source": [
    "# Importando bibliotecas.\n",
    "\n",
    "library(e1071)\n",
    "library(neuralnet)\n",
    "library(xgboost)\n",
    "library(randomForest)\n",
    "library(pROC)\n",
    "library(C50)\n",
    "library(fastAdaboost)"
   ]
  },
  {
   "cell_type": "markdown",
   "metadata": {
    "colab_type": "text",
    "id": "3NuaZQhGFsa6"
   },
   "source": [
    "### **5.2 Criando dados de treino e de teste**"
   ]
  },
  {
   "cell_type": "markdown",
   "metadata": {
    "colab_type": "text",
    "id": "nw5ZkavqF3tg"
   },
   "source": [
    "Para iniciar a modelagem preditiva, iremos criar os dados de treino e de teste."
   ]
  },
  {
   "cell_type": "code",
   "execution_count": 51,
   "metadata": {
    "colab": {},
    "colab_type": "code",
    "id": "jyMddXKoFnfQ"
   },
   "outputs": [],
   "source": [
    "# Definindo um seed.\n",
    "\n",
    "set.seed(100)\n",
    "\n",
    "# Criando as partições com dados de treino e de teste.\n",
    "\n",
    "inTrain <- createDataPartition(data$medv, p = .80, list = F)\n",
    "\n",
    "# Segmentando dados de treino e de teste por partição.\n",
    "\n",
    "train <- data[inTrain, ]\n",
    "test  <- data[-inTrain, ]"
   ]
  },
  {
   "cell_type": "markdown",
   "metadata": {
    "colab_type": "text",
    "id": "eTGk92NYxEv1"
   },
   "source": [
    "### **5.3 Avaliando a importância das variáveis com o algoritmo Random Forest**"
   ]
  },
  {
   "cell_type": "code",
   "execution_count": 52,
   "metadata": {
    "colab": {},
    "colab_type": "code",
    "id": "aKEAXxakJhJ7"
   },
   "outputs": [],
   "source": [
    "# Criando o dataframe para salvar os resultados dos modelos.\n",
    "\n",
    "featuresRF <- data.frame()\n",
    "\n",
    "# Definindo o número de nós e árvores a serem combinados para a criação de diferentes modelos.\n",
    "\n",
    "nTrees <- 1:100\n",
    "nNodes <- 1:100\n",
    "\n",
    "# Define o número total de modelos a serem criados.\n",
    "\n",
    "total <- length(nTrees) * length(nNodes)\n",
    "\n",
    "# Define uma varíavel auxiliar para permitir o acompanhamento do progresso na avaliação dos modelos criados.\n",
    "\n",
    "count <- 0\n",
    "\n",
    "for(t in nTrees) {\n",
    "    \n",
    "  for(n in nNodes) {\n",
    "    \n",
    "    # Define um seed para permitir que os mesmos resultados dos experimentos sejam reproduzíveis.\n",
    "    \n",
    "    set.seed(100)\n",
    "    \n",
    "    # Cria o modelo Random Forest a ser avaliado.\n",
    "\n",
    "    model <- randomForest(medv ~ .,\n",
    "                          data       = train, \n",
    "                          ntree      = t, \n",
    "                          nodesize   = n, \n",
    "                          importance = T)\n",
    "\n",
    "    # Realizando as predições com o modelo criado.\n",
    "    \n",
    "    pred <- predict(model, train[!colnames(train) %in% 'medv'])\n",
    "\n",
    "    # Armazena os parâmetros utilizados para criação do modelo e o valor da métrica R2 obtida no dataframe.\n",
    "\n",
    "    featuresRF <- rbind(featuresRF, data.frame(\n",
    "        nodes    = n, \n",
    "        nTree    = t, \n",
    "        r2       = R2(pred, train$medv)\n",
    "    ))\n",
    "    \n",
    "    # Incrementa o número de modelos avaliados.\n",
    "\n",
    "    count <- count + 1\n",
    "\n",
    "    # Imprime a porcentagem de progresso do treinamento e o melhor score R2 já alcançado.\n",
    "\n",
    "    print(paste(100 * count / total, '%, best R2: ', max(featuresRF$r2)))\n",
    "  }\n",
    "}"
   ]
  },
  {
   "cell_type": "markdown",
   "metadata": {
    "colab_type": "text",
    "id": "L8S-ppmpMEW5"
   },
   "source": [
    "Salvaremos o dataframe gerado em um arquivo CSV e imprimiremos o registro do modelo que apresentou o maior valor para a métrica R2."
   ]
  },
  {
   "cell_type": "code",
   "execution_count": 53,
   "metadata": {
    "colab": {
     "base_uri": "https://localhost:8080/",
     "height": 0
    },
    "colab_type": "code",
    "id": "ocOcN6CDKj6C",
    "outputId": "e91b0e9e-d8cd-44cf-d60e-fe4945b3f2ae"
   },
   "outputs": [
    {
     "data": {
      "text/html": [
       "<table>\n",
       "<thead><tr><th></th><th scope=col>nodes</th><th scope=col>nTree</th><th scope=col>r2</th></tr></thead>\n",
       "<tbody>\n",
       "\t<tr><th scope=row>9001</th><td>1        </td><td>91       </td><td>0.9862457</td></tr>\n",
       "</tbody>\n",
       "</table>\n"
      ],
      "text/latex": [
       "\\begin{tabular}{r|lll}\n",
       "  & nodes & nTree & r2\\\\\n",
       "\\hline\n",
       "\t9001 & 1         & 91        & 0.9862457\\\\\n",
       "\\end{tabular}\n"
      ],
      "text/markdown": [
       "\n",
       "| <!--/--> | nodes | nTree | r2 |\n",
       "|---|---|---|---|\n",
       "| 9001 | 1         | 91        | 0.9862457 |\n",
       "\n"
      ],
      "text/plain": [
       "     nodes nTree r2       \n",
       "9001 1     91    0.9862457"
      ]
     },
     "metadata": {},
     "output_type": "display_data"
    }
   ],
   "source": [
    "# Salvando dataframe em um arquivo .csv.\n",
    "\n",
    "write.csv(featuresRF, 'featuresRF.csv')\n",
    "\n",
    "# Imprimindo registro do modelo que alcançou a maior acurácia.\n",
    "\n",
    "bestRF <- featuresRF[featuresRF$r2 == max(featuresRF$r2),]\n",
    "\n",
    "bestRF "
   ]
  },
  {
   "cell_type": "markdown",
   "metadata": {
    "colab_type": "text",
    "id": "-cJOUm4ZMaAm"
   },
   "source": [
    "Recriaremos este modelo e imprimiremos suas estatísticas."
   ]
  },
  {
   "cell_type": "code",
   "execution_count": 54,
   "metadata": {
    "colab": {
     "base_uri": "https://localhost:8080/",
     "height": 0
    },
    "colab_type": "code",
    "id": "WFhKRNFZMcQJ",
    "outputId": "1f551aa9-847f-4340-ebf0-2bb025ac27dc"
   },
   "outputs": [
    {
     "data": {
      "text/plain": [
       "\n",
       "Call:\n",
       " randomForest(formula = medv ~ ., data = train, ntree = bestRF[,      \"nTree\"], nodesize = bestRF[, \"nodes\"], importance = T) \n",
       "               Type of random forest: regression\n",
       "                     Number of trees: 91\n",
       "No. of variables tried at each split: 4\n",
       "\n",
       "          Mean of squared residuals: 0.005352482\n",
       "                    % Var explained: 87.19"
      ]
     },
     "metadata": {},
     "output_type": "display_data"
    }
   ],
   "source": [
    "# Criando modelo.\n",
    "\n",
    "set.seed(100)\n",
    "\n",
    "model <- randomForest(medv ~ .,\n",
    "                      data       = train, \n",
    "                      ntree      = bestRF[, 'nTree'], \n",
    "                      nodesize   = bestRF[, 'nodes'], \n",
    "                      importance = T)\n",
    "                      \n",
    "# Imprimindo o modelo.\n",
    "\n",
    "model"
   ]
  },
  {
   "cell_type": "markdown",
   "metadata": {
    "colab_type": "text",
    "id": "6IWpjZwYL6u2"
   },
   "source": [
    "Agora podemos plotar o modelo em um gráfico e verificar o nível de importância das variáveis do dataset para prever a variável alvo."
   ]
  },
  {
   "cell_type": "code",
   "execution_count": 55,
   "metadata": {
    "colab": {
     "base_uri": "https://localhost:8080/",
     "height": 0
    },
    "colab_type": "code",
    "id": "GcUe8kcgLsQy",
    "outputId": "be1f5e21-c0e1-4c6e-edb7-cb2433a6655b"
   },
   "outputs": [
    {
     "data": {
      "image/png": "[encoded data removed]",
      "text/plain": [
       "plot without title"
      ]
     },
     "metadata": {},
     "output_type": "display_data"
    }
   ],
   "source": [
    "# Plotando gráfico para visualizar o nível de importância de cada variável no processo de predição da variável alvo.\n",
    "\n",
    "v <- as.data.frame(varImpPlot(model))"
   ]
  },
  {
   "cell_type": "markdown",
   "metadata": {
    "colab_type": "text",
    "id": "lbOAulPiM0P7"
   },
   "source": [
    "Também podemos mensurar numericamente o quanto cada variável auxilia no processo de predição da variável alvo."
   ]
  },
  {
   "cell_type": "code",
   "execution_count": 56,
   "metadata": {
    "colab": {
     "base_uri": "https://localhost:8080/",
     "height": 0
    },
    "colab_type": "code",
    "id": "Z_j3YEHBM5Z9",
    "outputId": "32a46a81-6540-4d58-f984-1e0032695fd2"
   },
   "outputs": [
    {
     "data": {
      "text/html": [
       "<table>\n",
       "<thead><tr><th></th><th scope=col>%IncMSE</th><th scope=col>IncNodePurity</th></tr></thead>\n",
       "<tbody>\n",
       "\t<tr><th scope=row>rm</th><td>15.347528 </td><td>4.65412868</td></tr>\n",
       "\t<tr><th scope=row>lstat</th><td>12.692737 </td><td>4.72855512</td></tr>\n",
       "\t<tr><th scope=row>crim</th><td> 8.311760 </td><td>1.10092431</td></tr>\n",
       "\t<tr><th scope=row>dis</th><td> 6.891099 </td><td>1.17807840</td></tr>\n",
       "\t<tr><th scope=row>ptratio</th><td> 6.812864 </td><td>1.06997349</td></tr>\n",
       "\t<tr><th scope=row>nox</th><td> 6.062349 </td><td>0.99378478</td></tr>\n",
       "\t<tr><th scope=row>age</th><td> 5.259128 </td><td>0.43908018</td></tr>\n",
       "\t<tr><th scope=row>indus</th><td> 5.213971 </td><td>1.02032114</td></tr>\n",
       "\t<tr><th scope=row>black</th><td> 5.025957 </td><td>0.28615954</td></tr>\n",
       "\t<tr><th scope=row>tax</th><td> 4.877453 </td><td>0.64410508</td></tr>\n",
       "\t<tr><th scope=row>rad</th><td> 3.950851 </td><td>0.15870347</td></tr>\n",
       "\t<tr><th scope=row>zn</th><td> 3.509725 </td><td>0.23241186</td></tr>\n",
       "\t<tr><th scope=row>chas</th><td> 1.830923 </td><td>0.06846998</td></tr>\n",
       "</tbody>\n",
       "</table>\n"
      ],
      "text/latex": [
       "\\begin{tabular}{r|ll}\n",
       "  & \\%IncMSE & IncNodePurity\\\\\n",
       "\\hline\n",
       "\trm & 15.347528  & 4.65412868\\\\\n",
       "\tlstat & 12.692737  & 4.72855512\\\\\n",
       "\tcrim &  8.311760  & 1.10092431\\\\\n",
       "\tdis &  6.891099  & 1.17807840\\\\\n",
       "\tptratio &  6.812864  & 1.06997349\\\\\n",
       "\tnox &  6.062349  & 0.99378478\\\\\n",
       "\tage &  5.259128  & 0.43908018\\\\\n",
       "\tindus &  5.213971  & 1.02032114\\\\\n",
       "\tblack &  5.025957  & 0.28615954\\\\\n",
       "\ttax &  4.877453  & 0.64410508\\\\\n",
       "\trad &  3.950851  & 0.15870347\\\\\n",
       "\tzn &  3.509725  & 0.23241186\\\\\n",
       "\tchas &  1.830923  & 0.06846998\\\\\n",
       "\\end{tabular}\n"
      ],
      "text/markdown": [
       "\n",
       "| <!--/--> | %IncMSE | IncNodePurity |\n",
       "|---|---|---|\n",
       "| rm | 15.347528  | 4.65412868 |\n",
       "| lstat | 12.692737  | 4.72855512 |\n",
       "| crim |  8.311760  | 1.10092431 |\n",
       "| dis |  6.891099  | 1.17807840 |\n",
       "| ptratio |  6.812864  | 1.06997349 |\n",
       "| nox |  6.062349  | 0.99378478 |\n",
       "| age |  5.259128  | 0.43908018 |\n",
       "| indus |  5.213971  | 1.02032114 |\n",
       "| black |  5.025957  | 0.28615954 |\n",
       "| tax |  4.877453  | 0.64410508 |\n",
       "| rad |  3.950851  | 0.15870347 |\n",
       "| zn |  3.509725  | 0.23241186 |\n",
       "| chas |  1.830923  | 0.06846998 |\n",
       "\n"
      ],
      "text/plain": [
       "        %IncMSE   IncNodePurity\n",
       "rm      15.347528 4.65412868   \n",
       "lstat   12.692737 4.72855512   \n",
       "crim     8.311760 1.10092431   \n",
       "dis      6.891099 1.17807840   \n",
       "ptratio  6.812864 1.06997349   \n",
       "nox      6.062349 0.99378478   \n",
       "age      5.259128 0.43908018   \n",
       "indus    5.213971 1.02032114   \n",
       "black    5.025957 0.28615954   \n",
       "tax      4.877453 0.64410508   \n",
       "rad      3.950851 0.15870347   \n",
       "zn       3.509725 0.23241186   \n",
       "chas     1.830923 0.06846998   "
      ]
     },
     "metadata": {},
     "output_type": "display_data"
    }
   ],
   "source": [
    "# Captura em ordem decrescente de nível de importância o nome das variáveis.\n",
    "\n",
    "names <- rownames(v[order(v[, '%IncMSE'], decreasing = T),])\n",
    "\n",
    "# Imprime o resultado.\n",
    "\n",
    "v[order(v[, '%IncMSE'], decreasing = T),]"
   ]
  },
  {
   "cell_type": "markdown",
   "metadata": {
    "colab_type": "text",
    "id": "K0217B3NOVXf"
   },
   "source": [
    "### **5.4 Feature Selection**"
   ]
  },
  {
   "cell_type": "markdown",
   "metadata": {
    "colab_type": "text",
    "id": "0WADgUs9OtqS"
   },
   "source": [
    "Nesta etapa, vamos selecionar as melhores variáveis para a criação dos modelos preditivos.\n",
    "\n",
    "Segundo o modelo Random Forest criado anteriormente, as variáveis **zn**, **rad** e **chas** foram as que apresentaram o menor índice de importância tanto para a métrica ***%IncMSE*** quanto para ***IncNodePurity*** como ilustrado no gráfico. \n",
    "\n",
    "**zn** e **rad** possuem forte correlações com outras variáveis preditoras o que poderá levar a problemas de *overfitting*.\n",
    "\n",
    "Já **chas** possuí uma correlação muito fraca com todas as variáveis do dataset.\n",
    "\n",
    "Por estes motivos, iremos desconsiderar estas 3 variáveis preditoras no processo de criação de modelos preditivos.\n",
    "\n"
   ]
  },
  {
   "cell_type": "code",
   "execution_count": 57,
   "metadata": {
    "colab": {},
    "colab_type": "code",
    "id": "DYaXn4HWOSqI"
   },
   "outputs": [],
   "source": [
    "# Definindo fórmula a ser utilizada pelos modelos preditivos.\n",
    "\n",
    "f <- medv ~ . -zn -rad - chas"
   ]
  },
  {
   "cell_type": "code",
   "execution_count": 58,
   "metadata": {
    "colab": {},
    "colab_type": "code",
    "id": "sGKGmgrYVNOO"
   },
   "outputs": [],
   "source": [
    "# Definindo um vetor lógico indicando quais colunas devem ser ignoradas pelos modelos preditivos.\n",
    "\n",
    "ignoreCols <- colnames(train) %in% c('zn', 'rad', 'chas', 'medv')"
   ]
  },
  {
   "cell_type": "markdown",
   "metadata": {
    "colab_type": "text",
    "id": "Jniw4ExlxXDO"
   },
   "source": [
    "### **5.5 Criando modelos**"
   ]
  },
  {
   "cell_type": "markdown",
   "metadata": {
    "colab_type": "text",
    "id": "FN8Jzl2s2bX1"
   },
   "source": [
    "Nesta fase iremos criar modelos baseados em diferentes algoritmos e selecionaremos aquele que obter o maior score para a métrica **R2**. "
   ]
  },
  {
   "cell_type": "markdown",
   "metadata": {
    "colab_type": "text",
    "id": "xP8BJ7OHLDDw"
   },
   "source": [
    "#### **5.5.1 Modelo Random Forest**"
   ]
  },
  {
   "cell_type": "code",
   "execution_count": 59,
   "metadata": {
    "colab": {
     "base_uri": "https://localhost:8080/",
     "height": 0
    },
    "colab_type": "code",
    "id": "jpzA8pepKj3O",
    "outputId": "528d5140-4b69-4ffb-ff54-09e9db594876"
   },
   "outputs": [
    {
     "data": {
      "text/plain": [
       "\n",
       "Call:\n",
       " randomForest(formula = f, data = train, ntree = bestRF[, \"nTree\"],      nodesize = bestRF[, \"nodes\"]) \n",
       "               Type of random forest: regression\n",
       "                     Number of trees: 91\n",
       "No. of variables tried at each split: 3\n",
       "\n",
       "          Mean of squared residuals: 0.005481058\n",
       "                    % Var explained: 86.88"
      ]
     },
     "metadata": {},
     "output_type": "display_data"
    }
   ],
   "source": [
    "# Definindo um Seed.\n",
    "\n",
    "set.seed(100)\n",
    "\n",
    "# Criando modelo Random Forest com as melhores configurações de estrutura encontradas na avaliação de importância das variáveis.\n",
    "\n",
    "model_rf <- randomForest(f,\n",
    "                      data       = train, \n",
    "                      ntree      = bestRF[, 'nTree'], \n",
    "                      nodesize   = bestRF[, 'nodes'])\n",
    "                      \n",
    "# Imprimindo o modelo.\n",
    "\n",
    "model_rf"
   ]
  },
  {
   "cell_type": "code",
   "execution_count": 60,
   "metadata": {
    "colab": {},
    "colab_type": "code",
    "id": "FVE_tqzxD0Ez"
   },
   "outputs": [],
   "source": [
    "# Realizando previsões com o modelo baseado no algoritmo Random Forest.\n",
    "\n",
    "pred <- predict(model_rf, test[!colnames(test) %in% 'medv'])"
   ]
  },
  {
   "cell_type": "code",
   "execution_count": 61,
   "metadata": {
    "colab": {
     "base_uri": "https://localhost:8080/",
     "height": 0
    },
    "colab_type": "code",
    "id": "qusBVT_NENi2",
    "outputId": "5b3ebad7-2280-42a5-85f3-a414ba154883"
   },
   "outputs": [
    {
     "data": {
      "text/html": [
       "0.885982680852347"
      ],
      "text/latex": [
       "0.885982680852347"
      ],
      "text/markdown": [
       "0.885982680852347"
      ],
      "text/plain": [
       "[1] 0.8859827"
      ]
     },
     "metadata": {},
     "output_type": "display_data"
    }
   ],
   "source": [
    "# Calculando a métrica R2 gerada ao se utilizar o modelo.\n",
    "\n",
    "r2_rf <- R2(pred, test$medv)\n",
    "\n",
    "# Imprimindo o valor da métrica R2.\n",
    "\n",
    "r2_rf"
   ]
  },
  {
   "cell_type": "markdown",
   "metadata": {
    "colab_type": "text",
    "id": "mhVTmxfvyQ4l"
   },
   "source": [
    "#### **5.5.2 Modelo Xgboost**"
   ]
  },
  {
   "cell_type": "code",
   "execution_count": 62,
   "metadata": {
    "colab": {
     "base_uri": "https://localhost:8080/",
     "height": 0
    },
    "colab_type": "code",
    "id": "4BqZgLffCIZP",
    "outputId": "217727a1-873c-4119-c6e8-c56af2ca1ae1"
   },
   "outputs": [
    {
     "name": "stdout",
     "output_type": "stream",
     "text": [
      "[1]\ttrain-rmse:0.029478 \n",
      "[2]\ttrain-rmse:0.007020 \n",
      "[3]\ttrain-rmse:0.002918 \n",
      "[4]\ttrain-rmse:0.001503 \n",
      "[5]\ttrain-rmse:0.001006 \n",
      "[6]\ttrain-rmse:0.000834 \n",
      "[7]\ttrain-rmse:0.000797 \n",
      "[8]\ttrain-rmse:0.000794 \n",
      "[9]\ttrain-rmse:0.000794 \n",
      "[10]\ttrain-rmse:0.000794 \n",
      "[11]\ttrain-rmse:0.000794 \n",
      "[12]\ttrain-rmse:0.000794 \n",
      "[13]\ttrain-rmse:0.000794 \n",
      "[14]\ttrain-rmse:0.000794 \n",
      "[15]\ttrain-rmse:0.000794 \n"
     ]
    }
   ],
   "source": [
    "# Criando modelo XGboost.\n",
    "\n",
    "  model_xgboost <- xgboost(\n",
    "      data      = as.matrix(train[, ignoreCols]), # Define as variáveis preditoras.\n",
    "      label     = as.matrix(train$medv),          # Define a variável target.\n",
    "      max.depth = 50,                             # Defie o tamanho máximo da árvore.\n",
    "      eta       = 1,                              # Define a taxa de aprendizado do modelo.\n",
    "      nthread   = 4,                              # Define o número de threads que devem ser usadas. Quanto maior for esse número, mais rápido será o treinamento.\n",
    "      nrounds   = 15,                             # Define o número de iterações.\n",
    "      verbose   = T,                              # Exibe a queda da taxa de erro durante o treinamento.\n",
    "      eval_metric = 'rmse'                        # Define a métrica de avaliação com a qual o modelo deve ser avaliado.\n",
    ")"
   ]
  },
  {
   "cell_type": "code",
   "execution_count": 63,
   "metadata": {
    "colab": {},
    "colab_type": "code",
    "id": "oMhlkE7rCIWO"
   },
   "outputs": [],
   "source": [
    "# Realizando as previsões como o modelo baseado no algoritmo XGboost.\n",
    "\n",
    "pred <- predict(model_xgboost, as.matrix(test[, ignoreCols]))"
   ]
  },
  {
   "cell_type": "code",
   "execution_count": 64,
   "metadata": {
    "colab": {
     "base_uri": "https://localhost:8080/",
     "height": 0
    },
    "colab_type": "code",
    "id": "7DrHOKNPI1KT",
    "outputId": "e437df29-8a2e-4089-b455-8b1aee2e5142"
   },
   "outputs": [
    {
     "data": {
      "text/html": [
       "0.999308948695104"
      ],
      "text/latex": [
       "0.999308948695104"
      ],
      "text/markdown": [
       "0.999308948695104"
      ],
      "text/plain": [
       "[1] 0.9993089"
      ]
     },
     "metadata": {},
     "output_type": "display_data"
    }
   ],
   "source": [
    "# Calculando a métrica R2 gerada ao se utilizar o modelo.\n",
    "\n",
    "r2_xgboost <- R2(pred, test$medv)\n",
    "\n",
    "# Imprimindo o valor da métrica R2.\n",
    "\n",
    "r2_xgboost"
   ]
  },
  {
   "cell_type": "markdown",
   "metadata": {
    "colab_type": "text",
    "id": "r-3adEkwyasU"
   },
   "source": [
    "#### **5.5.3 Modelo neuralnet**"
   ]
  },
  {
   "cell_type": "code",
   "execution_count": null,
   "metadata": {
    "colab": {
     "base_uri": "https://localhost:8080/",
     "height": 1000
    },
    "colab_type": "code",
    "id": "ESiAjtsOb8kO",
    "outputId": "8424e963-92e3-490c-da03-df85c22d4265"
   },
   "outputs": [],
   "source": [
    "# Criando diversos modelos de rede neural com diferentes arquiteturas e avaliando seu nível de precisão para a avaliação dos dados de teste.\n",
    "\n",
    "# Criando um data.frame para armazenar os parâmetros utilizados em cada modelo criado.\n",
    "\n",
    "results <- data.frame()\n",
    "\n",
    "# Definindo o número de neurônios que devem ser utilizados em cada arquitetura de rede neural a ser criada.\n",
    "\n",
    "neurons    <- 2:100\n",
    "\n",
    "# Definindo diferentes taxas de aprendizagem para serem aplicadas a cada arquitetura de rede neural.\n",
    "\n",
    "thresholds <- c(0.008, 0.009, 0.01)\n",
    "\n",
    "# Define o número total de modelos a ser criado.\n",
    "\n",
    "total <- length(neurons) * length(thresholds)\n",
    "\n",
    "# Define um variável para contabilizar o número de modelos já criado.\n",
    "\n",
    "count <- 0\n",
    "\n",
    "# Definindo um loop para percorrer o número de neurônios que cada modelo criado deve possuir.\n",
    "\n",
    "for(n in neurons) {\n",
    "  \n",
    "  # Definindo um loop para aplicar diferentes taxas de aprendizagem a cada arquitetura de rede neural criada.\n",
    "\n",
    "  for(r in thresholds) {\n",
    "    \n",
    "    # Define um seed para permitir que os resultados gerados possam ser reproduzíveis.\n",
    "\n",
    "    set.seed(100)\n",
    "    \n",
    "    # Cria o modelo baseado no algoritmo neuralnet.\n",
    "\n",
    "    nn <- neuralnet(f, data = train, hidden = c(n), linear.output = T, threshold = r)\n",
    "    \n",
    "    # Realizando as previsões para os dados de teste.\n",
    "\n",
    "    pre <- predict(nn, test)\n",
    "\n",
    "    # Calculando o valor da métrica R2.\n",
    "\n",
    "    r2 <- R2(pre, test$medv)\n",
    "    \n",
    "    # Armazenando os resultados no dataset.\n",
    "\n",
    "    results <- rbind(results, data.frame(n = n, threshold = r, r2 = r2))\n",
    "    \n",
    "    # Incrementando o número de modelos criados.\n",
    "\n",
    "    count <- count + 1\n",
    "\n",
    "    # Imprimindo uma mensagem com o progresso dos treinamento dos modelos.\n",
    "\n",
    "    print(paste(100 * count / total, '%, best R2: ', max(results$r2)))\n",
    "  }\n",
    "}\n"
   ]
  },
  {
   "cell_type": "markdown",
   "metadata": {
    "colab_type": "text",
    "id": "sWkwvqhe_v8a"
   },
   "source": [
    "Salvaremos o dataframe gerado em um arquivo CSV e imprimiremos o registro do modelo que apresentou o maior valor para a métrica R2."
   ]
  },
  {
   "cell_type": "code",
   "execution_count": 66,
   "metadata": {
    "colab": {
     "base_uri": "https://localhost:8080/",
     "height": 99
    },
    "colab_type": "code",
    "id": "ryiYpLrIPUTh",
    "outputId": "53e2dc09-e8ca-4c04-9672-816232d5f684"
   },
   "outputs": [
    {
     "data": {
      "text/html": [
       "<table>\n",
       "<thead><tr><th></th><th scope=col>n</th><th scope=col>threshold</th><th scope=col>r2</th></tr></thead>\n",
       "<tbody>\n",
       "\t<tr><th scope=row>60</th><td>21      </td><td>0.01    </td><td>0.927713</td></tr>\n",
       "</tbody>\n",
       "</table>\n"
      ],
      "text/latex": [
       "\\begin{tabular}{r|lll}\n",
       "  & n & threshold & r2\\\\\n",
       "\\hline\n",
       "\t60 & 21       & 0.01     & 0.927713\\\\\n",
       "\\end{tabular}\n"
      ],
      "text/markdown": [
       "\n",
       "| <!--/--> | n | threshold | r2 |\n",
       "|---|---|---|---|\n",
       "| 60 | 21       | 0.01     | 0.927713 |\n",
       "\n"
      ],
      "text/plain": [
       "   n  threshold r2      \n",
       "60 21 0.01      0.927713"
      ]
     },
     "metadata": {},
     "output_type": "display_data"
    }
   ],
   "source": [
    "# Salvando dataframe em um arquivo .csv.\n",
    "\n",
    "write.csv(featuresRF, 'featuresNN.csv')\n",
    "\n",
    "# Imprimindo registro do modelo que alcançou o maior score para a métrica R2.\n",
    "\n",
    "bestNN <- results[results$r2 == max(results$r2),]\n",
    "\n",
    "bestNN"
   ]
  },
  {
   "cell_type": "markdown",
   "metadata": {
    "colab_type": "text",
    "id": "MIl6eWjkBjGO"
   },
   "source": [
    "#### **5.5.4 Selecionando o melhor modelo criado**"
   ]
  },
  {
   "cell_type": "markdown",
   "metadata": {
    "colab_type": "text",
    "id": "ZYTyEscDg7Rv"
   },
   "source": [
    "Determinaremos qual modelo teve o melhor desempenho para o conjunto de dados de teste a partir do score da métrica **R2** (*R-squared*) gerados por cada um."
   ]
  },
  {
   "cell_type": "code",
   "execution_count": 67,
   "metadata": {
    "colab": {
     "base_uri": "https://localhost:8080/",
     "height": 34
    },
    "colab_type": "code",
    "id": "_9YXXro9fvfg",
    "outputId": "ccd8e781-ccf7-477b-9e44-4e731cb492e2"
   },
   "outputs": [
    {
     "data": {
      "text/html": [
       "<strong>xgboost:</strong> 0.999308948695104"
      ],
      "text/latex": [
       "\\textbf{xgboost:} 0.999308948695104"
      ],
      "text/markdown": [
       "**xgboost:** 0.999308948695104"
      ],
      "text/plain": [
       "  xgboost \n",
       "0.9993089 "
      ]
     },
     "metadata": {},
     "output_type": "display_data"
    }
   ],
   "source": [
    "# Criando um vetor com os scores para a métrica R2 obtidos por cada modelo.\n",
    "\n",
    "r2Models <- c(\n",
    "    randomForest = r2_rf,\n",
    "    xgboost      = r2_xgboost,\n",
    "    neuralnet    = bestNN$r2\n",
    ")\n",
    "\n",
    "# Determinando o modelo com o maior score R2.\n",
    "\n",
    "head(sort(r2Models, decreasing = T), 1)"
   ]
  },
  {
   "cell_type": "markdown",
   "metadata": {
    "colab_type": "text",
    "id": "fEZvXCDSOGYh"
   },
   "source": [
    "Finalizamos esta análise concluindo que o algoritmo **XGboost** foi aquele que obteve a melhor performance para a métrica **R2** em relação aos demais algoritmos implementados com um score de:\n",
    "\n",
    "* **XGboost:** 0.999308948695104"
   ]
  },
  {
   "cell_type": "markdown",
   "metadata": {
    "colab_type": "text",
    "id": "fMcitPkemOqe"
   },
   "source": [
    "## **Entre em contato comigo!**"
   ]
  },
  {
   "cell_type": "markdown",
   "metadata": {
    "colab_type": "text",
    "id": "jfmuYm8UmQ1u"
   },
   "source": [
    "Caso tenha alguma dúvida, sugestão ou apenas queira trocar uma ideia sobre este projeto, não hesite em entrar em contato comigo!"
   ]
  },
  {
   "cell_type": "markdown",
   "metadata": {
    "colab_type": "text",
    "id": "k39JXj4ZmXYe"
   },
   "source": [
    "<table align='center'>\n",
    "    <tr style=\" background-color: rgba(0,0,0,0);\">\n",
    "        <td>\n",
    "            <img src=\"https://image.flaticon.com/icons/svg/732/732026.svg\" alt=\"Email\" height=\"42\" width=\"42\">\n",
    "        </td>\n",
    "        <td>\n",
    "            <p>\n",
    "                <a href=\"mailto:franklinfs390@gmail.com\">E-mail</href>\n",
    "            </p>\n",
    "        </td>\n",
    "    <td>\n",
    "            <img src=\"https://image.flaticon.com/icons/svg/254/254394.svg\" alt=\"Linkedin\" height=\"42\" width=\"42\">\n",
    "    </td>\n",
    "    <td>\n",
    "        <p>\n",
    "            <a href=\"https://www.linkedin.com/in/franklinfs390/\">Linkedin</href>\n",
    "        </p>\n",
    "    </td>\n",
    "    <td>\n",
    "        <img src=\"https://image.flaticon.com/icons/svg/2111/2111432.svg\" alt=\"Github\" height=\"42\" width=\"42\">\n",
    "    </td>\n",
    "    <td>\n",
    "        <p>\n",
    "            <a href=\"https://github.com/franklin390\">Github</href>\n",
    "        </p>\n",
    "    </td>\n",
    "  </tr>\n",
    "</table>\n"
   ]
  }
 ],
 "metadata": {
  "colab": {
   "collapsed_sections": [
    "RWPac84CgN9s",
    "khD4bl6mkaEV",
    "EW2LWjBduD92",
    "oUP-JYQ90e49",
    "nCpms3z8GgyE",
    "3UBY-sULGql8",
    "2cDCqqFeG3P6",
    "4J_iNrLMG6ym",
    "4LhnAyTMHAsi",
    "NSnwAbhtHD-5",
    "cBSAGWSDHH70",
    "t9HmMEoBHMGw",
    "qJeW1WC_HP6e",
    "2_sjDxikHWXj",
    "SJ0iyuW7HaqM",
    "v-UMGlvpHfrL",
    "mtq19XOyHjio",
    "23iDNqWyw1y0"
   ],
   "name": "Boston Houses.ipynb",
   "provenance": [],
   "toc_visible": true
  },
  "kernelspec": {
   "display_name": "R",
   "language": "R",
   "name": "ir"
  },
  "language_info": {
   "codemirror_mode": "r",
   "file_extension": ".r",
   "mimetype": "text/x-r-source",
   "name": "R",
   "pygments_lexer": "r",
   "version": "3.6.1"
  }
 },
 "nbformat": 4,
 "nbformat_minor": 4
}
